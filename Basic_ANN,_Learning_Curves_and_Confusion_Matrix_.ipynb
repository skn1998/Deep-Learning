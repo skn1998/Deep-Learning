{
  "nbformat": 4,
  "nbformat_minor": 0,
  "metadata": {
    "colab": {
      "name": "Basic ANN, Learning Curves and Confusion Matrix .ipynb",
      "provenance": []
    },
    "kernelspec": {
      "name": "python3",
      "display_name": "Python 3"
    }
  },
  "cells": [
    {
      "cell_type": "markdown",
      "metadata": {
        "id": "5_nd-Q9MdswA",
        "colab_type": "text"
      },
      "source": [
        "**Installing TensorFlow**"
      ]
    },
    {
      "cell_type": "code",
      "metadata": {
        "id": "P2MLvINtJ_9e",
        "colab_type": "code",
        "colab": {
          "base_uri": "https://localhost:8080/",
          "height": 394
        },
        "outputId": "9ac5b251-56c8-4198-d7ab-5e9830058fe4"
      },
      "source": [
        "!pip install tensorflow==2.0.0-rc0"
      ],
      "execution_count": 1,
      "outputs": [
        {
          "output_type": "stream",
          "text": [
            "Requirement already satisfied: tensorflow==2.0.0-rc0 in /usr/local/lib/python3.6/dist-packages (2.0.0rc0)\n",
            "Requirement already satisfied: astor>=0.6.0 in /usr/local/lib/python3.6/dist-packages (from tensorflow==2.0.0-rc0) (0.8.1)\n",
            "Requirement already satisfied: keras-applications>=1.0.8 in /usr/local/lib/python3.6/dist-packages (from tensorflow==2.0.0-rc0) (1.0.8)\n",
            "Requirement already satisfied: absl-py>=0.7.0 in /usr/local/lib/python3.6/dist-packages (from tensorflow==2.0.0-rc0) (0.8.1)\n",
            "Requirement already satisfied: keras-preprocessing>=1.0.5 in /usr/local/lib/python3.6/dist-packages (from tensorflow==2.0.0-rc0) (1.1.0)\n",
            "Requirement already satisfied: termcolor>=1.1.0 in /usr/local/lib/python3.6/dist-packages (from tensorflow==2.0.0-rc0) (1.1.0)\n",
            "Requirement already satisfied: protobuf>=3.6.1 in /usr/local/lib/python3.6/dist-packages (from tensorflow==2.0.0-rc0) (3.10.0)\n",
            "Requirement already satisfied: wheel>=0.26 in /usr/local/lib/python3.6/dist-packages (from tensorflow==2.0.0-rc0) (0.33.6)\n",
            "Requirement already satisfied: gast>=0.2.0 in /usr/local/lib/python3.6/dist-packages (from tensorflow==2.0.0-rc0) (0.2.2)\n",
            "Requirement already satisfied: opt-einsum>=2.3.2 in /usr/local/lib/python3.6/dist-packages (from tensorflow==2.0.0-rc0) (3.1.0)\n",
            "Requirement already satisfied: tb-nightly<1.15.0a20190807,>=1.15.0a20190806 in /usr/local/lib/python3.6/dist-packages (from tensorflow==2.0.0-rc0) (1.15.0a20190806)\n",
            "Requirement already satisfied: wrapt>=1.11.1 in /usr/local/lib/python3.6/dist-packages (from tensorflow==2.0.0-rc0) (1.11.2)\n",
            "Requirement already satisfied: six>=1.10.0 in /usr/local/lib/python3.6/dist-packages (from tensorflow==2.0.0-rc0) (1.12.0)\n",
            "Requirement already satisfied: tf-estimator-nightly<1.14.0.dev2019080602,>=1.14.0.dev2019080601 in /usr/local/lib/python3.6/dist-packages (from tensorflow==2.0.0-rc0) (1.14.0.dev2019080601)\n",
            "Requirement already satisfied: numpy<2.0,>=1.16.0 in /usr/local/lib/python3.6/dist-packages (from tensorflow==2.0.0-rc0) (1.17.4)\n",
            "Requirement already satisfied: grpcio>=1.8.6 in /usr/local/lib/python3.6/dist-packages (from tensorflow==2.0.0-rc0) (1.15.0)\n",
            "Requirement already satisfied: google-pasta>=0.1.6 in /usr/local/lib/python3.6/dist-packages (from tensorflow==2.0.0-rc0) (0.1.8)\n",
            "Requirement already satisfied: h5py in /usr/local/lib/python3.6/dist-packages (from keras-applications>=1.0.8->tensorflow==2.0.0-rc0) (2.8.0)\n",
            "Requirement already satisfied: setuptools in /usr/local/lib/python3.6/dist-packages (from protobuf>=3.6.1->tensorflow==2.0.0-rc0) (42.0.2)\n",
            "Requirement already satisfied: werkzeug>=0.11.15 in /usr/local/lib/python3.6/dist-packages (from tb-nightly<1.15.0a20190807,>=1.15.0a20190806->tensorflow==2.0.0-rc0) (0.16.0)\n",
            "Requirement already satisfied: markdown>=2.6.8 in /usr/local/lib/python3.6/dist-packages (from tb-nightly<1.15.0a20190807,>=1.15.0a20190806->tensorflow==2.0.0-rc0) (3.1.1)\n"
          ],
          "name": "stdout"
        }
      ]
    },
    {
      "cell_type": "code",
      "metadata": {
        "id": "uwEtXV456Ks1",
        "colab_type": "code",
        "colab": {}
      },
      "source": [
        "import numpy as np\n",
        "import pandas as pd\n",
        "import matplotlib.pyplot as plt"
      ],
      "execution_count": 0,
      "outputs": []
    },
    {
      "cell_type": "code",
      "metadata": {
        "id": "XDSTv1p4eEzV",
        "colab_type": "code",
        "colab": {}
      },
      "source": [
        "import tensorflow as tf\n",
        "from tensorflow import keras"
      ],
      "execution_count": 0,
      "outputs": []
    },
    {
      "cell_type": "code",
      "metadata": {
        "id": "JCR-QEO49sOD",
        "colab_type": "code",
        "colab": {}
      },
      "source": [
        "mnist = keras.datasets.fashion_mnist"
      ],
      "execution_count": 0,
      "outputs": []
    },
    {
      "cell_type": "code",
      "metadata": {
        "id": "qApWLzVA9xod",
        "colab_type": "code",
        "colab": {}
      },
      "source": [
        "(X_train, y_train), (X_test, y_test) = mnist.load_data()"
      ],
      "execution_count": 0,
      "outputs": []
    },
    {
      "cell_type": "code",
      "metadata": {
        "id": "sMWClXYP_-HQ",
        "colab_type": "code",
        "colab": {
          "base_uri": "https://localhost:8080/",
          "height": 85
        },
        "outputId": "92820e49-2999-4de6-d5fc-7952f86557f7"
      },
      "source": [
        "print(X_train.shape)\n",
        "print(y_train.shape)\n",
        "print(X_test.shape)\n",
        "print(y_test.shape)"
      ],
      "execution_count": 6,
      "outputs": [
        {
          "output_type": "stream",
          "text": [
            "(60000, 28, 28)\n",
            "(60000,)\n",
            "(10000, 28, 28)\n",
            "(10000,)\n"
          ],
          "name": "stdout"
        }
      ]
    },
    {
      "cell_type": "code",
      "metadata": {
        "id": "JjvP37LOAP0x",
        "colab_type": "code",
        "colab": {
          "base_uri": "https://localhost:8080/",
          "height": 51
        },
        "outputId": "5927b93c-9357-4627-d903-48da9e49aaf8"
      },
      "source": [
        "print(np.max(X_train))\n",
        "print(np.max(X_test))"
      ],
      "execution_count": 7,
      "outputs": [
        {
          "output_type": "stream",
          "text": [
            "255\n",
            "255\n"
          ],
          "name": "stdout"
        }
      ]
    },
    {
      "cell_type": "code",
      "metadata": {
        "id": "b-6M9rMAAkiH",
        "colab_type": "code",
        "colab": {
          "base_uri": "https://localhost:8080/",
          "height": 282
        },
        "outputId": "bf1462d7-a234-41de-beb8-4ac1e5e35d35"
      },
      "source": [
        "plt.figure()\n",
        "plt.imshow(X_train[0])"
      ],
      "execution_count": 8,
      "outputs": [
        {
          "output_type": "execute_result",
          "data": {
            "text/plain": [
              "<matplotlib.image.AxesImage at 0x7f75b1f39908>"
            ]
          },
          "metadata": {
            "tags": []
          },
          "execution_count": 8
        },
        {
          "output_type": "display_data",
          "data": {
            "image/png": "[encoded data removed]",
            "text/plain": [
              "<Figure size 432x288 with 1 Axes>"
            ]
          },
          "metadata": {
            "tags": []
          }
        }
      ]
    },
    {
      "cell_type": "code",
      "metadata": {
        "id": "xgk-m0U9BU7J",
        "colab_type": "code",
        "colab": {}
      },
      "source": [
        "X_train = X_train/255\n",
        "X_test = X_test/255"
      ],
      "execution_count": 0,
      "outputs": []
    },
    {
      "cell_type": "markdown",
      "metadata": {
        "id": "lwQHz6phCU8W",
        "colab_type": "text"
      },
      "source": [
        "**Neural Network**"
      ]
    },
    {
      "cell_type": "code",
      "metadata": {
        "id": "YCIQO1Wa9DUA",
        "colab_type": "code",
        "colab": {}
      },
      "source": [
        "from tensorflow.keras import Sequential\n",
        "from tensorflow.keras.layers import Flatten, Dense"
      ],
      "execution_count": 0,
      "outputs": []
    },
    {
      "cell_type": "code",
      "metadata": {
        "id": "Hc8vZcjJBx9Y",
        "colab_type": "code",
        "colab": {}
      },
      "source": [
        "model = Sequential()\n",
        "model.add(Flatten(input_shape=X_train[0].shape))\n",
        "model.add(Dense(200, activation='relu'))\n",
        "model.add(Dense(120, activation='relu'))\n",
        "model.add(Dense(120, activation='relu'))\n",
        "model.add(Dense(120, activation='relu'))\n",
        "model.add(Dense(50, activation='relu'))\n",
        "model.add(Dense(10, activation='softmax'))"
      ],
      "execution_count": 0,
      "outputs": []
    },
    {
      "cell_type": "code",
      "metadata": {
        "id": "yP2x_1cDE4fg",
        "colab_type": "code",
        "colab": {
          "base_uri": "https://localhost:8080/",
          "height": 391
        },
        "outputId": "56381ac9-bb78-41ea-fce9-eb8df69eeabc"
      },
      "source": [
        "model.summary()"
      ],
      "execution_count": 12,
      "outputs": [
        {
          "output_type": "stream",
          "text": [
            "Model: \"sequential\"\n",
            "_________________________________________________________________\n",
            "Layer (type)                 Output Shape              Param #   \n",
            "=================================================================\n",
            "flatten (Flatten)            (None, 784)               0         \n",
            "_________________________________________________________________\n",
            "dense (Dense)                (None, 200)               157000    \n",
            "_________________________________________________________________\n",
            "dense_1 (Dense)              (None, 120)               24120     \n",
            "_________________________________________________________________\n",
            "dense_2 (Dense)              (None, 120)               14520     \n",
            "_________________________________________________________________\n",
            "dense_3 (Dense)              (None, 120)               14520     \n",
            "_________________________________________________________________\n",
            "dense_4 (Dense)              (None, 50)                6050      \n",
            "_________________________________________________________________\n",
            "dense_5 (Dense)              (None, 10)                510       \n",
            "=================================================================\n",
            "Total params: 216,720\n",
            "Trainable params: 216,720\n",
            "Non-trainable params: 0\n",
            "_________________________________________________________________\n"
          ],
          "name": "stdout"
        }
      ]
    },
    {
      "cell_type": "code",
      "metadata": {
        "id": "lQSeoJOcGBAf",
        "colab_type": "code",
        "colab": {}
      },
      "source": [
        "model.compile(optimizer='adam', metrics=['accuracy'], loss='sparse_categorical_crossentropy')"
      ],
      "execution_count": 0,
      "outputs": []
    },
    {
      "cell_type": "code",
      "metadata": {
        "id": "DgXw0AQqRu9Z",
        "colab_type": "code",
        "colab": {
          "base_uri": "https://localhost:8080/",
          "height": 1000
        },
        "outputId": "eb600304-31bf-406d-8251-a9edeaaeb8e9"
      },
      "source": [
        "history = model.fit(X_train, y_train, batch_size=10000, epochs=150)"
      ],
      "execution_count": 14,
      "outputs": [
        {
          "output_type": "stream",
          "text": [
            "Train on 60000 samples\n",
            "Epoch 1/150\n",
            "60000/60000 [==============================] - 3s 46us/sample - loss: 2.0789 - accuracy: 0.3049\n",
            "Epoch 2/150\n",
            "60000/60000 [==============================] - 2s 29us/sample - loss: 1.3404 - accuracy: 0.5925\n",
            "Epoch 3/150\n",
            "60000/60000 [==============================] - 2s 28us/sample - loss: 0.8668 - accuracy: 0.6929\n",
            "Epoch 4/150\n",
            "60000/60000 [==============================] - 2s 29us/sample - loss: 0.7290 - accuracy: 0.7370\n",
            "Epoch 5/150\n",
            "60000/60000 [==============================] - 2s 29us/sample - loss: 0.6406 - accuracy: 0.7631\n",
            "Epoch 6/150\n",
            "60000/60000 [==============================] - 2s 29us/sample - loss: 0.5769 - accuracy: 0.7873\n",
            "Epoch 7/150\n",
            "60000/60000 [==============================] - 2s 28us/sample - loss: 0.5405 - accuracy: 0.8034\n",
            "Epoch 8/150\n",
            "60000/60000 [==============================] - 2s 28us/sample - loss: 0.5146 - accuracy: 0.8139\n",
            "Epoch 9/150\n",
            "60000/60000 [==============================] - 2s 29us/sample - loss: 0.5003 - accuracy: 0.8214\n",
            "Epoch 10/150\n",
            "60000/60000 [==============================] - 2s 28us/sample - loss: 0.4784 - accuracy: 0.8319\n",
            "Epoch 11/150\n",
            "60000/60000 [==============================] - 2s 29us/sample - loss: 0.4618 - accuracy: 0.8382\n",
            "Epoch 12/150\n",
            "60000/60000 [==============================] - 2s 28us/sample - loss: 0.4464 - accuracy: 0.8441\n",
            "Epoch 13/150\n",
            "60000/60000 [==============================] - 2s 28us/sample - loss: 0.4316 - accuracy: 0.8509\n",
            "Epoch 14/150\n",
            "60000/60000 [==============================] - 2s 28us/sample - loss: 0.4181 - accuracy: 0.8551\n",
            "Epoch 15/150\n",
            "60000/60000 [==============================] - 2s 29us/sample - loss: 0.4087 - accuracy: 0.8580\n",
            "Epoch 16/150\n",
            "60000/60000 [==============================] - 2s 28us/sample - loss: 0.3976 - accuracy: 0.8616\n",
            "Epoch 17/150\n",
            "60000/60000 [==============================] - 2s 28us/sample - loss: 0.3888 - accuracy: 0.8645\n",
            "Epoch 18/150\n",
            "60000/60000 [==============================] - 2s 29us/sample - loss: 0.3803 - accuracy: 0.8676\n",
            "Epoch 19/150\n",
            "60000/60000 [==============================] - 2s 28us/sample - loss: 0.3750 - accuracy: 0.8684\n",
            "Epoch 20/150\n",
            "60000/60000 [==============================] - 2s 28us/sample - loss: 0.3662 - accuracy: 0.8713\n",
            "Epoch 21/150\n",
            "60000/60000 [==============================] - 2s 30us/sample - loss: 0.3597 - accuracy: 0.8735\n",
            "Epoch 22/150\n",
            "60000/60000 [==============================] - 2s 29us/sample - loss: 0.3516 - accuracy: 0.8775\n",
            "Epoch 23/150\n",
            "60000/60000 [==============================] - 2s 29us/sample - loss: 0.3478 - accuracy: 0.8781\n",
            "Epoch 24/150\n",
            "60000/60000 [==============================] - 2s 29us/sample - loss: 0.3449 - accuracy: 0.8776\n",
            "Epoch 25/150\n",
            "60000/60000 [==============================] - 2s 28us/sample - loss: 0.3444 - accuracy: 0.8774\n",
            "Epoch 26/150\n",
            "60000/60000 [==============================] - 2s 29us/sample - loss: 0.3391 - accuracy: 0.8795\n",
            "Epoch 27/150\n",
            "60000/60000 [==============================] - 2s 29us/sample - loss: 0.3428 - accuracy: 0.8771\n",
            "Epoch 28/150\n",
            "60000/60000 [==============================] - 2s 29us/sample - loss: 0.3453 - accuracy: 0.8753\n",
            "Epoch 29/150\n",
            "60000/60000 [==============================] - 2s 28us/sample - loss: 0.3446 - accuracy: 0.8761\n",
            "Epoch 30/150\n",
            "60000/60000 [==============================] - 2s 29us/sample - loss: 0.3319 - accuracy: 0.8798\n",
            "Epoch 31/150\n",
            "60000/60000 [==============================] - 2s 28us/sample - loss: 0.3220 - accuracy: 0.8846\n",
            "Epoch 32/150\n",
            "60000/60000 [==============================] - 2s 29us/sample - loss: 0.3114 - accuracy: 0.8884\n",
            "Epoch 33/150\n",
            "60000/60000 [==============================] - 2s 29us/sample - loss: 0.3086 - accuracy: 0.8884\n",
            "Epoch 34/150\n",
            "60000/60000 [==============================] - 2s 29us/sample - loss: 0.3065 - accuracy: 0.8892\n",
            "Epoch 35/150\n",
            "60000/60000 [==============================] - 2s 29us/sample - loss: 0.3042 - accuracy: 0.8903\n",
            "Epoch 36/150\n",
            "60000/60000 [==============================] - 2s 29us/sample - loss: 0.3047 - accuracy: 0.8891\n",
            "Epoch 37/150\n",
            "60000/60000 [==============================] - 2s 29us/sample - loss: 0.3019 - accuracy: 0.8905\n",
            "Epoch 38/150\n",
            "60000/60000 [==============================] - 2s 29us/sample - loss: 0.2945 - accuracy: 0.8934\n",
            "Epoch 39/150\n",
            "60000/60000 [==============================] - 2s 29us/sample - loss: 0.2888 - accuracy: 0.8954\n",
            "Epoch 40/150\n",
            "60000/60000 [==============================] - 2s 29us/sample - loss: 0.2846 - accuracy: 0.8971\n",
            "Epoch 41/150\n",
            "60000/60000 [==============================] - 2s 28us/sample - loss: 0.2836 - accuracy: 0.8970\n",
            "Epoch 42/150\n",
            "60000/60000 [==============================] - 2s 28us/sample - loss: 0.2853 - accuracy: 0.8959\n",
            "Epoch 43/150\n",
            "60000/60000 [==============================] - 2s 28us/sample - loss: 0.2826 - accuracy: 0.8971\n",
            "Epoch 44/150\n",
            "60000/60000 [==============================] - 2s 29us/sample - loss: 0.2830 - accuracy: 0.8961\n",
            "Epoch 45/150\n",
            "60000/60000 [==============================] - 2s 28us/sample - loss: 0.2770 - accuracy: 0.8989\n",
            "Epoch 46/150\n",
            "60000/60000 [==============================] - 2s 29us/sample - loss: 0.2729 - accuracy: 0.8994\n",
            "Epoch 47/150\n",
            "60000/60000 [==============================] - 2s 28us/sample - loss: 0.2725 - accuracy: 0.9002\n",
            "Epoch 48/150\n",
            "60000/60000 [==============================] - 2s 29us/sample - loss: 0.2758 - accuracy: 0.8983\n",
            "Epoch 49/150\n",
            "60000/60000 [==============================] - 2s 29us/sample - loss: 0.2898 - accuracy: 0.8923\n",
            "Epoch 50/150\n",
            "60000/60000 [==============================] - 2s 30us/sample - loss: 0.2814 - accuracy: 0.8961\n",
            "Epoch 51/150\n",
            "60000/60000 [==============================] - 2s 30us/sample - loss: 0.2721 - accuracy: 0.9003\n",
            "Epoch 52/150\n",
            "60000/60000 [==============================] - 2s 30us/sample - loss: 0.2671 - accuracy: 0.9019\n",
            "Epoch 53/150\n",
            "60000/60000 [==============================] - 2s 29us/sample - loss: 0.2612 - accuracy: 0.9047\n",
            "Epoch 54/150\n",
            "60000/60000 [==============================] - 2s 28us/sample - loss: 0.2609 - accuracy: 0.9053\n",
            "Epoch 55/150\n",
            "60000/60000 [==============================] - 2s 29us/sample - loss: 0.2558 - accuracy: 0.9066\n",
            "Epoch 56/150\n",
            "60000/60000 [==============================] - 2s 29us/sample - loss: 0.2607 - accuracy: 0.9044\n",
            "Epoch 57/150\n",
            "60000/60000 [==============================] - 2s 30us/sample - loss: 0.2534 - accuracy: 0.9071\n",
            "Epoch 58/150\n",
            "60000/60000 [==============================] - 2s 31us/sample - loss: 0.2482 - accuracy: 0.9098\n",
            "Epoch 59/150\n",
            "60000/60000 [==============================] - 2s 29us/sample - loss: 0.2488 - accuracy: 0.9085\n",
            "Epoch 60/150\n",
            "60000/60000 [==============================] - 2s 28us/sample - loss: 0.2446 - accuracy: 0.9108\n",
            "Epoch 61/150\n",
            "60000/60000 [==============================] - 2s 29us/sample - loss: 0.2429 - accuracy: 0.9112\n",
            "Epoch 62/150\n",
            "60000/60000 [==============================] - 2s 28us/sample - loss: 0.2533 - accuracy: 0.9069\n",
            "Epoch 63/150\n",
            "60000/60000 [==============================] - 2s 28us/sample - loss: 0.2467 - accuracy: 0.9086\n",
            "Epoch 64/150\n",
            "60000/60000 [==============================] - 2s 29us/sample - loss: 0.2423 - accuracy: 0.9109\n",
            "Epoch 65/150\n",
            "60000/60000 [==============================] - 2s 28us/sample - loss: 0.2347 - accuracy: 0.9147\n",
            "Epoch 66/150\n",
            "60000/60000 [==============================] - 2s 28us/sample - loss: 0.2342 - accuracy: 0.9139\n",
            "Epoch 67/150\n",
            "60000/60000 [==============================] - 2s 29us/sample - loss: 0.2340 - accuracy: 0.9147\n",
            "Epoch 68/150\n",
            "60000/60000 [==============================] - 2s 28us/sample - loss: 0.2318 - accuracy: 0.9152\n",
            "Epoch 69/150\n",
            "60000/60000 [==============================] - 2s 28us/sample - loss: 0.2370 - accuracy: 0.9136\n",
            "Epoch 70/150\n",
            "60000/60000 [==============================] - 2s 27us/sample - loss: 0.2406 - accuracy: 0.9116\n",
            "Epoch 71/150\n",
            "60000/60000 [==============================] - 2s 29us/sample - loss: 0.2307 - accuracy: 0.9148\n",
            "Epoch 72/150\n",
            "60000/60000 [==============================] - 2s 28us/sample - loss: 0.2250 - accuracy: 0.9186\n",
            "Epoch 73/150\n",
            "60000/60000 [==============================] - 2s 28us/sample - loss: 0.2231 - accuracy: 0.9176\n",
            "Epoch 74/150\n",
            "60000/60000 [==============================] - 2s 28us/sample - loss: 0.2236 - accuracy: 0.9165\n",
            "Epoch 75/150\n",
            "60000/60000 [==============================] - 2s 29us/sample - loss: 0.2225 - accuracy: 0.9171\n",
            "Epoch 76/150\n",
            "60000/60000 [==============================] - 2s 29us/sample - loss: 0.2260 - accuracy: 0.9162\n",
            "Epoch 77/150\n",
            "60000/60000 [==============================] - 2s 29us/sample - loss: 0.2215 - accuracy: 0.9188\n",
            "Epoch 78/150\n",
            "60000/60000 [==============================] - 2s 28us/sample - loss: 0.2177 - accuracy: 0.9204\n",
            "Epoch 79/150\n",
            "60000/60000 [==============================] - 2s 29us/sample - loss: 0.2143 - accuracy: 0.9211\n",
            "Epoch 80/150\n",
            "60000/60000 [==============================] - 2s 28us/sample - loss: 0.2119 - accuracy: 0.9223\n",
            "Epoch 81/150\n",
            "60000/60000 [==============================] - 2s 28us/sample - loss: 0.2105 - accuracy: 0.9240\n",
            "Epoch 82/150\n",
            "60000/60000 [==============================] - 2s 28us/sample - loss: 0.2082 - accuracy: 0.9240\n",
            "Epoch 83/150\n",
            "60000/60000 [==============================] - 2s 29us/sample - loss: 0.2088 - accuracy: 0.9222\n",
            "Epoch 84/150\n",
            "60000/60000 [==============================] - 2s 29us/sample - loss: 0.2093 - accuracy: 0.9227\n",
            "Epoch 85/150\n",
            "60000/60000 [==============================] - 2s 29us/sample - loss: 0.2095 - accuracy: 0.9221\n",
            "Epoch 86/150\n",
            "60000/60000 [==============================] - 2s 28us/sample - loss: 0.2031 - accuracy: 0.9261\n",
            "Epoch 87/150\n",
            "60000/60000 [==============================] - 2s 28us/sample - loss: 0.1997 - accuracy: 0.9263\n",
            "Epoch 88/150\n",
            "60000/60000 [==============================] - 2s 28us/sample - loss: 0.1975 - accuracy: 0.9275\n",
            "Epoch 89/150\n",
            "60000/60000 [==============================] - 2s 28us/sample - loss: 0.1959 - accuracy: 0.9288\n",
            "Epoch 90/150\n",
            "60000/60000 [==============================] - 2s 28us/sample - loss: 0.1949 - accuracy: 0.9291\n",
            "Epoch 91/150\n",
            "60000/60000 [==============================] - 2s 28us/sample - loss: 0.2047 - accuracy: 0.9239\n",
            "Epoch 92/150\n",
            "60000/60000 [==============================] - 2s 29us/sample - loss: 0.2036 - accuracy: 0.9239\n",
            "Epoch 93/150\n",
            "60000/60000 [==============================] - 2s 29us/sample - loss: 0.1993 - accuracy: 0.9258\n",
            "Epoch 94/150\n",
            "60000/60000 [==============================] - 2s 29us/sample - loss: 0.1930 - accuracy: 0.9282\n",
            "Epoch 95/150\n",
            "60000/60000 [==============================] - 2s 28us/sample - loss: 0.1890 - accuracy: 0.9310\n",
            "Epoch 96/150\n",
            "60000/60000 [==============================] - 2s 29us/sample - loss: 0.1893 - accuracy: 0.9306\n",
            "Epoch 97/150\n",
            "60000/60000 [==============================] - 2s 28us/sample - loss: 0.1937 - accuracy: 0.9287\n",
            "Epoch 98/150\n",
            "60000/60000 [==============================] - 2s 28us/sample - loss: 0.1887 - accuracy: 0.9305\n",
            "Epoch 99/150\n",
            "60000/60000 [==============================] - 2s 28us/sample - loss: 0.1845 - accuracy: 0.9330\n",
            "Epoch 100/150\n",
            "60000/60000 [==============================] - 2s 28us/sample - loss: 0.1891 - accuracy: 0.9302\n",
            "Epoch 101/150\n",
            "60000/60000 [==============================] - 2s 28us/sample - loss: 0.2046 - accuracy: 0.9230\n",
            "Epoch 102/150\n",
            "60000/60000 [==============================] - 2s 29us/sample - loss: 0.1999 - accuracy: 0.9258\n",
            "Epoch 103/150\n",
            "60000/60000 [==============================] - 2s 28us/sample - loss: 0.1931 - accuracy: 0.9284\n",
            "Epoch 104/150\n",
            "60000/60000 [==============================] - 2s 28us/sample - loss: 0.1907 - accuracy: 0.9305\n",
            "Epoch 105/150\n",
            "60000/60000 [==============================] - 2s 28us/sample - loss: 0.1817 - accuracy: 0.9336\n",
            "Epoch 106/150\n",
            "60000/60000 [==============================] - 2s 28us/sample - loss: 0.1848 - accuracy: 0.9322\n",
            "Epoch 107/150\n",
            "60000/60000 [==============================] - 2s 28us/sample - loss: 0.1815 - accuracy: 0.9337\n",
            "Epoch 108/150\n",
            "60000/60000 [==============================] - 2s 29us/sample - loss: 0.1857 - accuracy: 0.9315\n",
            "Epoch 109/150\n",
            "60000/60000 [==============================] - 2s 28us/sample - loss: 0.1813 - accuracy: 0.9330\n",
            "Epoch 110/150\n",
            "60000/60000 [==============================] - 2s 28us/sample - loss: 0.1739 - accuracy: 0.9369\n",
            "Epoch 111/150\n",
            "60000/60000 [==============================] - 2s 28us/sample - loss: 0.1721 - accuracy: 0.9373\n",
            "Epoch 112/150\n",
            "60000/60000 [==============================] - 2s 29us/sample - loss: 0.1702 - accuracy: 0.9370\n",
            "Epoch 113/150\n",
            "60000/60000 [==============================] - 2s 28us/sample - loss: 0.1657 - accuracy: 0.9391\n",
            "Epoch 114/150\n",
            "60000/60000 [==============================] - 2s 29us/sample - loss: 0.1678 - accuracy: 0.9382\n",
            "Epoch 115/150\n",
            "60000/60000 [==============================] - 2s 28us/sample - loss: 0.1638 - accuracy: 0.9405\n",
            "Epoch 116/150\n",
            "60000/60000 [==============================] - 2s 28us/sample - loss: 0.1624 - accuracy: 0.9413\n",
            "Epoch 117/150\n",
            "60000/60000 [==============================] - 2s 28us/sample - loss: 0.1592 - accuracy: 0.9419\n",
            "Epoch 118/150\n",
            "60000/60000 [==============================] - 2s 28us/sample - loss: 0.1607 - accuracy: 0.9410\n",
            "Epoch 119/150\n",
            "60000/60000 [==============================] - 2s 28us/sample - loss: 0.1604 - accuracy: 0.9423\n",
            "Epoch 120/150\n",
            "60000/60000 [==============================] - 2s 28us/sample - loss: 0.1654 - accuracy: 0.9387\n",
            "Epoch 121/150\n",
            "60000/60000 [==============================] - 2s 29us/sample - loss: 0.1827 - accuracy: 0.9312\n",
            "Epoch 122/150\n",
            "60000/60000 [==============================] - 2s 29us/sample - loss: 0.2043 - accuracy: 0.9244\n",
            "Epoch 123/150\n",
            "60000/60000 [==============================] - 2s 29us/sample - loss: 0.1936 - accuracy: 0.9280\n",
            "Epoch 124/150\n",
            "60000/60000 [==============================] - 2s 29us/sample - loss: 0.1812 - accuracy: 0.9336\n",
            "Epoch 125/150\n",
            "60000/60000 [==============================] - 2s 28us/sample - loss: 0.1663 - accuracy: 0.9393\n",
            "Epoch 126/150\n",
            "60000/60000 [==============================] - 2s 29us/sample - loss: 0.1584 - accuracy: 0.9431\n",
            "Epoch 127/150\n",
            "60000/60000 [==============================] - 2s 29us/sample - loss: 0.1560 - accuracy: 0.9441\n",
            "Epoch 128/150\n",
            "60000/60000 [==============================] - 2s 29us/sample - loss: 0.1529 - accuracy: 0.9448\n",
            "Epoch 129/150\n",
            "60000/60000 [==============================] - 2s 29us/sample - loss: 0.1510 - accuracy: 0.9463\n",
            "Epoch 130/150\n",
            "60000/60000 [==============================] - 2s 29us/sample - loss: 0.1503 - accuracy: 0.9457\n",
            "Epoch 131/150\n",
            "60000/60000 [==============================] - 2s 29us/sample - loss: 0.1476 - accuracy: 0.9464\n",
            "Epoch 132/150\n",
            "60000/60000 [==============================] - 2s 28us/sample - loss: 0.1468 - accuracy: 0.9469\n",
            "Epoch 133/150\n",
            "60000/60000 [==============================] - 2s 29us/sample - loss: 0.1487 - accuracy: 0.9453\n",
            "Epoch 134/150\n",
            "60000/60000 [==============================] - 2s 29us/sample - loss: 0.1453 - accuracy: 0.9473\n",
            "Epoch 135/150\n",
            "60000/60000 [==============================] - 2s 28us/sample - loss: 0.1466 - accuracy: 0.9460\n",
            "Epoch 136/150\n",
            "60000/60000 [==============================] - 2s 28us/sample - loss: 0.1450 - accuracy: 0.9470\n",
            "Epoch 137/150\n",
            "60000/60000 [==============================] - 2s 28us/sample - loss: 0.1463 - accuracy: 0.9470\n",
            "Epoch 138/150\n",
            "60000/60000 [==============================] - 2s 28us/sample - loss: 0.1489 - accuracy: 0.9454\n",
            "Epoch 139/150\n",
            "60000/60000 [==============================] - 2s 28us/sample - loss: 0.1522 - accuracy: 0.9438\n",
            "Epoch 140/150\n",
            "60000/60000 [==============================] - 2s 28us/sample - loss: 0.1398 - accuracy: 0.9501\n",
            "Epoch 141/150\n",
            "60000/60000 [==============================] - 2s 29us/sample - loss: 0.1457 - accuracy: 0.9472\n",
            "Epoch 142/150\n",
            "60000/60000 [==============================] - 2s 29us/sample - loss: 0.1390 - accuracy: 0.9504\n",
            "Epoch 143/150\n",
            "60000/60000 [==============================] - 2s 28us/sample - loss: 0.1392 - accuracy: 0.9491\n",
            "Epoch 144/150\n",
            "60000/60000 [==============================] - 2s 28us/sample - loss: 0.1776 - accuracy: 0.9324\n",
            "Epoch 145/150\n",
            "60000/60000 [==============================] - 2s 28us/sample - loss: 0.1835 - accuracy: 0.9299\n",
            "Epoch 146/150\n",
            "60000/60000 [==============================] - 2s 29us/sample - loss: 0.1585 - accuracy: 0.9413\n",
            "Epoch 147/150\n",
            "60000/60000 [==============================] - 2s 29us/sample - loss: 0.1484 - accuracy: 0.9448\n",
            "Epoch 148/150\n",
            "60000/60000 [==============================] - 2s 28us/sample - loss: 0.1381 - accuracy: 0.9505\n",
            "Epoch 149/150\n",
            "60000/60000 [==============================] - 2s 28us/sample - loss: 0.1374 - accuracy: 0.9499\n",
            "Epoch 150/150\n",
            "60000/60000 [==============================] - 2s 29us/sample - loss: 0.1369 - accuracy: 0.9504\n"
          ],
          "name": "stdout"
        }
      ]
    },
    {
      "cell_type": "code",
      "metadata": {
        "id": "LrQ-x_bUUC9c",
        "colab_type": "code",
        "colab": {}
      },
      "source": [
        "from sklearn.metrics import accuracy_score"
      ],
      "execution_count": 0,
      "outputs": []
    },
    {
      "cell_type": "code",
      "metadata": {
        "id": "DcVf18oQVq_b",
        "colab_type": "code",
        "colab": {}
      },
      "source": [
        "y_pred = model.predict_classes(X_test)"
      ],
      "execution_count": 0,
      "outputs": []
    },
    {
      "cell_type": "code",
      "metadata": {
        "id": "CmAnWVJFVyjA",
        "colab_type": "code",
        "colab": {
          "base_uri": "https://localhost:8080/",
          "height": 34
        },
        "outputId": "8a43581c-c0ce-4cea-9b10-5e0c0822e374"
      },
      "source": [
        "print(accuracy_score(y_test, y_pred))"
      ],
      "execution_count": 17,
      "outputs": [
        {
          "output_type": "stream",
          "text": [
            "0.8873\n"
          ],
          "name": "stdout"
        }
      ]
    },
    {
      "cell_type": "code",
      "metadata": {
        "id": "ujN0Cz7dV2Ii",
        "colab_type": "code",
        "colab": {
          "base_uri": "https://localhost:8080/",
          "height": 34
        },
        "outputId": "b81dd9fc-a960-492d-b902-fe513a4ec08d"
      },
      "source": [
        "print(y_test)"
      ],
      "execution_count": 18,
      "outputs": [
        {
          "output_type": "stream",
          "text": [
            "[9 2 1 ... 8 1 5]\n"
          ],
          "name": "stdout"
        }
      ]
    },
    {
      "cell_type": "code",
      "metadata": {
        "id": "FxK1rm0fWgnO",
        "colab_type": "code",
        "colab": {
          "base_uri": "https://localhost:8080/",
          "height": 34
        },
        "outputId": "1c508af1-2a6f-498f-94a6-e79f23f76a20"
      },
      "source": [
        "print(y_pred)"
      ],
      "execution_count": 19,
      "outputs": [
        {
          "output_type": "stream",
          "text": [
            "[9 2 1 ... 8 1 5]\n"
          ],
          "name": "stdout"
        }
      ]
    },
    {
      "cell_type": "markdown",
      "metadata": {
        "id": "dSGscMBNbDBJ",
        "colab_type": "text"
      },
      "source": [
        "**Learning Curves**"
      ]
    },
    {
      "cell_type": "code",
      "metadata": {
        "id": "Q8hFHjh5bk2Q",
        "colab_type": "code",
        "colab": {}
      },
      "source": [
        "## Accuracy with number of Epochs"
      ],
      "execution_count": 0,
      "outputs": []
    },
    {
      "cell_type": "code",
      "metadata": {
        "id": "OCQejIU_Wjsp",
        "colab_type": "code",
        "colab": {
          "base_uri": "https://localhost:8080/",
          "height": 479
        },
        "outputId": "bf03e5c6-03ed-4607-e78b-7bff1556bf8e"
      },
      "source": [
        "plt.figure()\n",
        "plt.plot(history.history['accuracy'])\n",
        "plt.label('Model Accuracy')\n",
        "plt.xlabel('No. of Epochs')\n",
        "plt.ylabel('Accuracy')"
      ],
      "execution_count": 21,
      "outputs": [
        {
          "output_type": "error",
          "ename": "AttributeError",
          "evalue": "ignored",
          "traceback": [
            "\u001b[0;31m---------------------------------------------------------------------------\u001b[0m",
            "\u001b[0;31mAttributeError\u001b[0m                            Traceback (most recent call last)",
            "\u001b[0;32m<ipython-input-21-a3b59ac10308>\u001b[0m in \u001b[0;36m<module>\u001b[0;34m()\u001b[0m\n\u001b[1;32m      1\u001b[0m \u001b[0mplt\u001b[0m\u001b[0;34m.\u001b[0m\u001b[0mfigure\u001b[0m\u001b[0;34m(\u001b[0m\u001b[0;34m)\u001b[0m\u001b[0;34m\u001b[0m\u001b[0;34m\u001b[0m\u001b[0m\n\u001b[1;32m      2\u001b[0m \u001b[0mplt\u001b[0m\u001b[0;34m.\u001b[0m\u001b[0mplot\u001b[0m\u001b[0;34m(\u001b[0m\u001b[0mhistory\u001b[0m\u001b[0;34m.\u001b[0m\u001b[0mhistory\u001b[0m\u001b[0;34m[\u001b[0m\u001b[0;34m'accuracy'\u001b[0m\u001b[0;34m]\u001b[0m\u001b[0;34m)\u001b[0m\u001b[0;34m\u001b[0m\u001b[0;34m\u001b[0m\u001b[0m\n\u001b[0;32m----> 3\u001b[0;31m \u001b[0mplt\u001b[0m\u001b[0;34m.\u001b[0m\u001b[0mlabel\u001b[0m\u001b[0;34m(\u001b[0m\u001b[0;34m'Model Accuracy'\u001b[0m\u001b[0;34m)\u001b[0m\u001b[0;34m\u001b[0m\u001b[0;34m\u001b[0m\u001b[0m\n\u001b[0m\u001b[1;32m      4\u001b[0m \u001b[0mplt\u001b[0m\u001b[0;34m.\u001b[0m\u001b[0mxlabel\u001b[0m\u001b[0;34m(\u001b[0m\u001b[0;34m'No. of Epochs'\u001b[0m\u001b[0;34m)\u001b[0m\u001b[0;34m\u001b[0m\u001b[0;34m\u001b[0m\u001b[0m\n\u001b[1;32m      5\u001b[0m \u001b[0mplt\u001b[0m\u001b[0;34m.\u001b[0m\u001b[0mylabel\u001b[0m\u001b[0;34m(\u001b[0m\u001b[0;34m'Accuracy'\u001b[0m\u001b[0;34m)\u001b[0m\u001b[0;34m\u001b[0m\u001b[0;34m\u001b[0m\u001b[0m\n",
            "\u001b[0;31mAttributeError\u001b[0m: module 'matplotlib.pyplot' has no attribute 'label'"
          ]
        },
        {
          "output_type": "display_data",
          "data": {
            "image/png": "[encoded data removed]",
            "text/plain": [
              "<Figure size 432x288 with 1 Axes>"
            ]
          },
          "metadata": {
            "tags": []
          }
        }
      ]
    },
    {
      "cell_type": "code",
      "metadata": {
        "id": "Jjzqw99rbrrn",
        "colab_type": "code",
        "colab": {}
      },
      "source": [
        "## Loss with number of Epochs"
      ],
      "execution_count": 0,
      "outputs": []
    },
    {
      "cell_type": "code",
      "metadata": {
        "id": "GqXEOegtbr3t",
        "colab_type": "code",
        "colab": {
          "base_uri": "https://localhost:8080/",
          "height": 479
        },
        "outputId": "997b224c-c986-43e0-95a1-ca94ef6d8a4a"
      },
      "source": [
        "plt.figure()\n",
        "plt.plot(history.history['loss'])\n",
        "plt.label('Model Loss')\n",
        "plt.xlabel('No. of Epochs')\n",
        "plt.ylabel('Loss')"
      ],
      "execution_count": 23,
      "outputs": [
        {
          "output_type": "error",
          "ename": "AttributeError",
          "evalue": "ignored",
          "traceback": [
            "\u001b[0;31m---------------------------------------------------------------------------\u001b[0m",
            "\u001b[0;31mAttributeError\u001b[0m                            Traceback (most recent call last)",
            "\u001b[0;32m<ipython-input-23-7cdf165b1d64>\u001b[0m in \u001b[0;36m<module>\u001b[0;34m()\u001b[0m\n\u001b[1;32m      1\u001b[0m \u001b[0mplt\u001b[0m\u001b[0;34m.\u001b[0m\u001b[0mfigure\u001b[0m\u001b[0;34m(\u001b[0m\u001b[0;34m)\u001b[0m\u001b[0;34m\u001b[0m\u001b[0;34m\u001b[0m\u001b[0m\n\u001b[1;32m      2\u001b[0m \u001b[0mplt\u001b[0m\u001b[0;34m.\u001b[0m\u001b[0mplot\u001b[0m\u001b[0;34m(\u001b[0m\u001b[0mhistory\u001b[0m\u001b[0;34m.\u001b[0m\u001b[0mhistory\u001b[0m\u001b[0;34m[\u001b[0m\u001b[0;34m'loss'\u001b[0m\u001b[0;34m]\u001b[0m\u001b[0;34m)\u001b[0m\u001b[0;34m\u001b[0m\u001b[0;34m\u001b[0m\u001b[0m\n\u001b[0;32m----> 3\u001b[0;31m \u001b[0mplt\u001b[0m\u001b[0;34m.\u001b[0m\u001b[0mlabel\u001b[0m\u001b[0;34m(\u001b[0m\u001b[0;34m'Model Loss'\u001b[0m\u001b[0;34m)\u001b[0m\u001b[0;34m\u001b[0m\u001b[0;34m\u001b[0m\u001b[0m\n\u001b[0m\u001b[1;32m      4\u001b[0m \u001b[0mplt\u001b[0m\u001b[0;34m.\u001b[0m\u001b[0mxlabel\u001b[0m\u001b[0;34m(\u001b[0m\u001b[0;34m'No. of Epochs'\u001b[0m\u001b[0;34m)\u001b[0m\u001b[0;34m\u001b[0m\u001b[0;34m\u001b[0m\u001b[0m\n\u001b[1;32m      5\u001b[0m \u001b[0mplt\u001b[0m\u001b[0;34m.\u001b[0m\u001b[0mylabel\u001b[0m\u001b[0;34m(\u001b[0m\u001b[0;34m'Loss'\u001b[0m\u001b[0;34m)\u001b[0m\u001b[0;34m\u001b[0m\u001b[0;34m\u001b[0m\u001b[0m\n",
            "\u001b[0;31mAttributeError\u001b[0m: module 'matplotlib.pyplot' has no attribute 'label'"
          ]
        },
        {
          "output_type": "display_data",
          "data": {
            "image/png": "[encoded data removed]",
            "text/plain": [
              "<Figure size 432x288 with 1 Axes>"
            ]
          },
          "metadata": {
            "tags": []
          }
        }
      ]
    },
    {
      "cell_type": "markdown",
      "metadata": {
        "id": "3Y2L_QFab_k5",
        "colab_type": "text"
      },
      "source": [
        "**Confusion Matrix**"
      ]
    },
    {
      "cell_type": "code",
      "metadata": {
        "id": "_nD9J0mPbsDF",
        "colab_type": "code",
        "colab": {
          "base_uri": "https://localhost:8080/",
          "height": 255
        },
        "outputId": "9da204b4-cb06-480a-859e-b88c1ea579ce"
      },
      "source": [
        "!pip install mlxtend"
      ],
      "execution_count": 24,
      "outputs": [
        {
          "output_type": "stream",
          "text": [
            "Requirement already satisfied: mlxtend in /usr/local/lib/python3.6/dist-packages (0.14.0)\n",
            "Requirement already satisfied: matplotlib>=1.5.1 in /usr/local/lib/python3.6/dist-packages (from mlxtend) (3.1.2)\n",
            "Requirement already satisfied: scikit-learn>=0.18 in /usr/local/lib/python3.6/dist-packages (from mlxtend) (0.21.3)\n",
            "Requirement already satisfied: setuptools in /usr/local/lib/python3.6/dist-packages (from mlxtend) (42.0.2)\n",
            "Requirement already satisfied: scipy>=0.17 in /usr/local/lib/python3.6/dist-packages (from mlxtend) (1.3.3)\n",
            "Requirement already satisfied: numpy>=1.10.4 in /usr/local/lib/python3.6/dist-packages (from mlxtend) (1.17.4)\n",
            "Requirement already satisfied: pandas>=0.17.1 in /usr/local/lib/python3.6/dist-packages (from mlxtend) (0.25.3)\n",
            "Requirement already satisfied: pyparsing!=2.0.4,!=2.1.2,!=2.1.6,>=2.0.1 in /usr/local/lib/python3.6/dist-packages (from matplotlib>=1.5.1->mlxtend) (2.4.5)\n",
            "Requirement already satisfied: kiwisolver>=1.0.1 in /usr/local/lib/python3.6/dist-packages (from matplotlib>=1.5.1->mlxtend) (1.1.0)\n",
            "Requirement already satisfied: cycler>=0.10 in /usr/local/lib/python3.6/dist-packages (from matplotlib>=1.5.1->mlxtend) (0.10.0)\n",
            "Requirement already satisfied: python-dateutil>=2.1 in /usr/local/lib/python3.6/dist-packages (from matplotlib>=1.5.1->mlxtend) (2.6.1)\n",
            "Requirement already satisfied: joblib>=0.11 in /usr/local/lib/python3.6/dist-packages (from scikit-learn>=0.18->mlxtend) (0.14.1)\n",
            "Requirement already satisfied: pytz>=2017.2 in /usr/local/lib/python3.6/dist-packages (from pandas>=0.17.1->mlxtend) (2018.9)\n",
            "Requirement already satisfied: six in /usr/local/lib/python3.6/dist-packages (from cycler>=0.10->matplotlib>=1.5.1->mlxtend) (1.12.0)\n"
          ],
          "name": "stdout"
        }
      ]
    },
    {
      "cell_type": "code",
      "metadata": {
        "id": "yOlgi6oTbsKn",
        "colab_type": "code",
        "colab": {}
      },
      "source": [
        "from mlxtend.plotting import plot_confusion_matrix"
      ],
      "execution_count": 0,
      "outputs": []
    },
    {
      "cell_type": "code",
      "metadata": {
        "id": "eo0mpTM5bsB9",
        "colab_type": "code",
        "colab": {}
      },
      "source": [
        "from sklearn.metrics import confusion_matrix"
      ],
      "execution_count": 0,
      "outputs": []
    },
    {
      "cell_type": "code",
      "metadata": {
        "id": "7hyaTlVObsAD",
        "colab_type": "code",
        "colab": {}
      },
      "source": [
        "mat = confusion_matrix(y_test, y_pred)"
      ],
      "execution_count": 0,
      "outputs": []
    },
    {
      "cell_type": "code",
      "metadata": {
        "id": "Xfi5ihHfbr-a",
        "colab_type": "code",
        "colab": {
          "base_uri": "https://localhost:8080/",
          "height": 531
        },
        "outputId": "b1e550b4-aed3-4295-8a52-192a3e506f67"
      },
      "source": [
        "plot_confusion_matrix(conf_mat=mat, figsize=(8, 8))"
      ],
      "execution_count": 28,
      "outputs": [
        {
          "output_type": "execute_result",
          "data": {
            "text/plain": [
              "(<Figure size 576x576 with 1 Axes>,\n",
              " <matplotlib.axes._subplots.AxesSubplot at 0x7f759c265a90>)"
            ]
          },
          "metadata": {
            "tags": []
          },
          "execution_count": 28
        },
        {
          "output_type": "display_data",
          "data": {
            "image/png": "[encoded data removed]",
            "text/plain": [
              "<Figure size 576x576 with 1 Axes>"
            ]
          },
          "metadata": {
            "tags": []
          }
        }
      ]
    },
    {
      "cell_type": "code",
      "metadata": {
        "id": "wa1SRq2Obr2i",
        "colab_type": "code",
        "colab": {}
      },
      "source": [
        ""
      ],
      "execution_count": 0,
      "outputs": []
    },
    {
      "cell_type": "code",
      "metadata": {
        "id": "upVUcICabeGh",
        "colab_type": "code",
        "colab": {}
      },
      "source": [
        ""
      ],
      "execution_count": 0,
      "outputs": []
    }
  ]
}