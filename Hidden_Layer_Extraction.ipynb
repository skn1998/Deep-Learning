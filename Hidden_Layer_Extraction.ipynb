{
  "nbformat": 4,
  "nbformat_minor": 5,
  "metadata": {
    "kernelspec": {
      "display_name": "Python 3 (ipykernel)",
      "language": "python",
      "name": "python3"
    },
    "language_info": {
      "codemirror_mode": {
        "name": "ipython",
        "version": 3
      },
      "file_extension": ".py",
      "mimetype": "text/x-python",
      "name": "python",
      "nbconvert_exporter": "python",
      "pygments_lexer": "ipython3",
      "version": "3.7.11"
    },
    "colab": {
      "name": "Hidden Layer Extraction.ipynb",
      "provenance": []
    }
  },
  "cells": [
    {
      "cell_type": "markdown",
      "metadata": {
        "id": "5f60f731"
      },
      "source": [
        "## Imports"
      ],
      "id": "5f60f731"
    },
    {
      "cell_type": "code",
      "metadata": {
        "id": "be016e58"
      },
      "source": [
        "import numpy as np\n",
        "import pandas as pd\n",
        "import matplotlib.pyplot as plt"
      ],
      "id": "be016e58",
      "execution_count": 1,
      "outputs": []
    },
    {
      "cell_type": "code",
      "metadata": {
        "id": "732d10bc"
      },
      "source": [
        "import tensorflow as tf\n",
        "from tensorflow import keras\n",
        "from tensorflow.keras import Sequential\n",
        "from tensorflow.keras.layers import Dense, Flatten"
      ],
      "id": "732d10bc",
      "execution_count": 2,
      "outputs": []
    },
    {
      "cell_type": "markdown",
      "metadata": {
        "id": "46e3fffc"
      },
      "source": [
        "## Importing the dataset"
      ],
      "id": "46e3fffc"
    },
    {
      "cell_type": "code",
      "metadata": {
        "id": "6c621bf3"
      },
      "source": [
        "from tensorflow.keras.datasets import mnist"
      ],
      "id": "6c621bf3",
      "execution_count": 3,
      "outputs": []
    },
    {
      "cell_type": "code",
      "metadata": {
        "id": "b3897d84"
      },
      "source": [
        "(X_train, y_train), (X_test, y_test) = mnist.load_data()"
      ],
      "id": "b3897d84",
      "execution_count": 4,
      "outputs": []
    },
    {
      "cell_type": "markdown",
      "metadata": {
        "id": "6f1e99dd"
      },
      "source": [
        "## Data visualization and preprocessing"
      ],
      "id": "6f1e99dd"
    },
    {
      "cell_type": "code",
      "metadata": {
        "colab": {
          "base_uri": "https://localhost:8080/"
        },
        "id": "d0f238d5",
        "outputId": "d2a1796e-3dd3-4080-fb6d-9f29ec968934"
      },
      "source": [
        "print(f'X_train shape: {X_train.shape}')\n",
        "print(f'y_train shape: {y_train.shape}')\n",
        "print(f'X_test shape : {X_test.shape}')\n",
        "print(f'y_test shape : {y_test.shape}')"
      ],
      "id": "d0f238d5",
      "execution_count": 5,
      "outputs": [
        {
          "output_type": "stream",
          "name": "stdout",
          "text": [
            "X_train shape: (60000, 28, 28)\n",
            "y_train shape: (60000,)\n",
            "X_test shape : (10000, 28, 28)\n",
            "y_test shape : (10000,)\n"
          ]
        }
      ]
    },
    {
      "cell_type": "code",
      "metadata": {
        "colab": {
          "base_uri": "https://localhost:8080/",
          "height": 283
        },
        "id": "rgwi0CK8ltNq",
        "outputId": "c7ab27e3-342d-4844-8150-f21f7bad432a"
      },
      "source": [
        "plt.figure()\n",
        "plt.imshow(X_train[0])"
      ],
      "id": "rgwi0CK8ltNq",
      "execution_count": 6,
      "outputs": [
        {
          "output_type": "execute_result",
          "data": {
            "text/plain": [
              "<matplotlib.image.AxesImage at 0x7f61f1951ed0>"
            ]
          },
          "metadata": {},
          "execution_count": 6
        },
        {
          "output_type": "display_data",
          "data": {
            "image/png": "[encoded data removed]",
            "text/plain": [
              "<Figure size 432x288 with 1 Axes>"
            ]
          },
          "metadata": {
            "needs_background": "light"
          }
        }
      ]
    },
    {
      "cell_type": "code",
      "metadata": {
        "colab": {
          "base_uri": "https://localhost:8080/"
        },
        "id": "e38e7421",
        "outputId": "41a25976-fb6a-4c7a-8931-d86d0f63769a"
      },
      "source": [
        "y_train[0]"
      ],
      "id": "e38e7421",
      "execution_count": 7,
      "outputs": [
        {
          "output_type": "execute_result",
          "data": {
            "text/plain": [
              "5"
            ]
          },
          "metadata": {},
          "execution_count": 7
        }
      ]
    },
    {
      "cell_type": "code",
      "metadata": {
        "id": "b04f6eea"
      },
      "source": [
        "X_train = X_train/255.0\n",
        "X_test = X_test/255.0"
      ],
      "id": "b04f6eea",
      "execution_count": 8,
      "outputs": []
    },
    {
      "cell_type": "code",
      "metadata": {
        "colab": {
          "base_uri": "https://localhost:8080/"
        },
        "id": "d10aca2b",
        "outputId": "81616dfe-251f-47d7-d26e-cd0b82461ec6"
      },
      "source": [
        "np.unique(y_train)"
      ],
      "id": "d10aca2b",
      "execution_count": 9,
      "outputs": [
        {
          "output_type": "execute_result",
          "data": {
            "text/plain": [
              "array([0, 1, 2, 3, 4, 5, 6, 7, 8, 9], dtype=uint8)"
            ]
          },
          "metadata": {},
          "execution_count": 9
        }
      ]
    },
    {
      "cell_type": "markdown",
      "metadata": {
        "id": "47333321"
      },
      "source": [
        "## Question - 1\n",
        "##### Implement a fully connected neural network with one hidden layer in keras/tensorflow. Set the number of neurons in the hidden layer to 100. "
      ],
      "id": "47333321"
    },
    {
      "cell_type": "code",
      "metadata": {
        "id": "39fb890d"
      },
      "source": [
        "model1 = Sequential()\n",
        "model1.add(Flatten(input_shape=X_train[0].shape))\n",
        "model1.add(Dense(100, activation='relu'))\n",
        "model1.add(Dense(10, activation='softmax'))"
      ],
      "id": "39fb890d",
      "execution_count": 10,
      "outputs": []
    },
    {
      "cell_type": "code",
      "metadata": {
        "colab": {
          "base_uri": "https://localhost:8080/"
        },
        "id": "ba882108",
        "outputId": "ec981767-422e-4091-feea-71f07ea04849"
      },
      "source": [
        "model1.summary()"
      ],
      "id": "ba882108",
      "execution_count": 11,
      "outputs": [
        {
          "output_type": "stream",
          "name": "stdout",
          "text": [
            "Model: \"sequential\"\n",
            "_________________________________________________________________\n",
            "Layer (type)                 Output Shape              Param #   \n",
            "=================================================================\n",
            "flatten (Flatten)            (None, 784)               0         \n",
            "_________________________________________________________________\n",
            "dense (Dense)                (None, 100)               78500     \n",
            "_________________________________________________________________\n",
            "dense_1 (Dense)              (None, 10)                1010      \n",
            "=================================================================\n",
            "Total params: 79,510\n",
            "Trainable params: 79,510\n",
            "Non-trainable params: 0\n",
            "_________________________________________________________________\n"
          ]
        }
      ]
    },
    {
      "cell_type": "code",
      "metadata": {
        "id": "d6611fdd"
      },
      "source": [
        "model1.compile(optimizer='adam', metrics=['accuracy'], loss='sparse_categorical_crossentropy')"
      ],
      "id": "d6611fdd",
      "execution_count": 12,
      "outputs": []
    },
    {
      "cell_type": "code",
      "metadata": {
        "colab": {
          "base_uri": "https://localhost:8080/"
        },
        "id": "8d714ee1",
        "outputId": "160b95a0-7f97-41a1-f01b-d8aae3c27852"
      },
      "source": [
        "history1 = model1.fit(X_train, y_train, batch_size=100, epochs=25)"
      ],
      "id": "8d714ee1",
      "execution_count": 13,
      "outputs": [
        {
          "output_type": "stream",
          "name": "stdout",
          "text": [
            "Epoch 1/25\n",
            "600/600 [==============================] - 2s 3ms/step - loss: 0.3508 - accuracy: 0.9038\n",
            "Epoch 2/25\n",
            "600/600 [==============================] - 2s 3ms/step - loss: 0.1601 - accuracy: 0.9545\n",
            "Epoch 3/25\n",
            "600/600 [==============================] - 2s 3ms/step - loss: 0.1182 - accuracy: 0.9656\n",
            "Epoch 4/25\n",
            "600/600 [==============================] - 2s 3ms/step - loss: 0.0932 - accuracy: 0.9733\n",
            "Epoch 5/25\n",
            "600/600 [==============================] - 2s 3ms/step - loss: 0.0747 - accuracy: 0.9789\n",
            "Epoch 6/25\n",
            "600/600 [==============================] - 2s 3ms/step - loss: 0.0631 - accuracy: 0.9822\n",
            "Epoch 7/25\n",
            "600/600 [==============================] - 2s 3ms/step - loss: 0.0536 - accuracy: 0.9847\n",
            "Epoch 8/25\n",
            "600/600 [==============================] - 2s 3ms/step - loss: 0.0459 - accuracy: 0.9867\n",
            "Epoch 9/25\n",
            "600/600 [==============================] - 2s 3ms/step - loss: 0.0393 - accuracy: 0.9890\n",
            "Epoch 10/25\n",
            "600/600 [==============================] - 2s 3ms/step - loss: 0.0332 - accuracy: 0.9905\n",
            "Epoch 11/25\n",
            "600/600 [==============================] - 2s 3ms/step - loss: 0.0285 - accuracy: 0.9925\n",
            "Epoch 12/25\n",
            "600/600 [==============================] - 2s 3ms/step - loss: 0.0253 - accuracy: 0.9932\n",
            "Epoch 13/25\n",
            "600/600 [==============================] - 2s 3ms/step - loss: 0.0207 - accuracy: 0.9947\n",
            "Epoch 14/25\n",
            "600/600 [==============================] - 2s 3ms/step - loss: 0.0188 - accuracy: 0.9955\n",
            "Epoch 15/25\n",
            "600/600 [==============================] - 2s 3ms/step - loss: 0.0161 - accuracy: 0.9959\n",
            "Epoch 16/25\n",
            "600/600 [==============================] - 2s 3ms/step - loss: 0.0138 - accuracy: 0.9967\n",
            "Epoch 17/25\n",
            "600/600 [==============================] - 2s 3ms/step - loss: 0.0118 - accuracy: 0.9974\n",
            "Epoch 18/25\n",
            "600/600 [==============================] - 2s 3ms/step - loss: 0.0107 - accuracy: 0.9976\n",
            "Epoch 19/25\n",
            "600/600 [==============================] - 2s 3ms/step - loss: 0.0091 - accuracy: 0.9984\n",
            "Epoch 20/25\n",
            "600/600 [==============================] - 2s 3ms/step - loss: 0.0083 - accuracy: 0.9983\n",
            "Epoch 21/25\n",
            "600/600 [==============================] - 2s 3ms/step - loss: 0.0071 - accuracy: 0.9987\n",
            "Epoch 22/25\n",
            "600/600 [==============================] - 2s 3ms/step - loss: 0.0061 - accuracy: 0.9991\n",
            "Epoch 23/25\n",
            "600/600 [==============================] - 2s 3ms/step - loss: 0.0074 - accuracy: 0.9982\n",
            "Epoch 24/25\n",
            "600/600 [==============================] - 2s 3ms/step - loss: 0.0058 - accuracy: 0.9987\n",
            "Epoch 25/25\n",
            "600/600 [==============================] - 2s 3ms/step - loss: 0.0043 - accuracy: 0.9991\n"
          ]
        }
      ]
    },
    {
      "cell_type": "code",
      "metadata": {
        "colab": {
          "base_uri": "https://localhost:8080/"
        },
        "id": "1cff5d38",
        "outputId": "df3fda09-7913-440d-e89c-3e7e6615fd2a"
      },
      "source": [
        "from sklearn.metrics import accuracy_score\n",
        "\n",
        "y_pred_train = np.argmax(model1.predict(X_train), axis=-1)\n",
        "y_pred_test = np.argmax(model1.predict(X_test), axis=-1)\n",
        "print('Training accuracy:', 100*accuracy_score(y_train, y_pred_train))\n",
        "print('Testing accuracy:', 100*accuracy_score(y_test, y_pred_test))"
      ],
      "id": "1cff5d38",
      "execution_count": 14,
      "outputs": [
        {
          "output_type": "stream",
          "name": "stdout",
          "text": [
            "Training accuracy: 99.93833333333333\n",
            "Testing accuracy: 97.75\n"
          ]
        }
      ]
    },
    {
      "cell_type": "code",
      "metadata": {
        "colab": {
          "base_uri": "https://localhost:8080/",
          "height": 312
        },
        "id": "df489328",
        "outputId": "de3ab5c5-3303-469c-b5fa-500e7f04c64b"
      },
      "source": [
        "plt.figure()\n",
        "plt.plot(history1.history['accuracy'])\n",
        "plt.title('Model Accuracy')\n",
        "plt.xlabel('No. of Epochs')\n",
        "plt.ylabel('Accuracy')"
      ],
      "id": "df489328",
      "execution_count": 15,
      "outputs": [
        {
          "output_type": "execute_result",
          "data": {
            "text/plain": [
              "Text(0, 0.5, 'Accuracy')"
            ]
          },
          "metadata": {},
          "execution_count": 15
        },
        {
          "output_type": "display_data",
          "data": {
            "image/png": "[encoded data removed]",
            "text/plain": [
              "<Figure size 432x288 with 1 Axes>"
            ]
          },
          "metadata": {
            "needs_background": "light"
          }
        }
      ]
    },
    {
      "cell_type": "code",
      "metadata": {
        "colab": {
          "base_uri": "https://localhost:8080/",
          "height": 312
        },
        "id": "bc611639",
        "outputId": "0f0973b4-5798-4292-b45a-f29cd38624f0"
      },
      "source": [
        "plt.figure()\n",
        "plt.plot(history1.history['loss'])\n",
        "plt.title('Model Loss')\n",
        "plt.xlabel('No. of Epochs')\n",
        "plt.ylabel('Loss')"
      ],
      "id": "bc611639",
      "execution_count": 16,
      "outputs": [
        {
          "output_type": "execute_result",
          "data": {
            "text/plain": [
              "Text(0, 0.5, 'Loss')"
            ]
          },
          "metadata": {},
          "execution_count": 16
        },
        {
          "output_type": "display_data",
          "data": {
            "image/png": "[encoded data removed]",
            "text/plain": [
              "<Figure size 432x288 with 1 Axes>"
            ]
          },
          "metadata": {
            "needs_background": "light"
          }
        }
      ]
    },
    {
      "cell_type": "markdown",
      "metadata": {
        "id": "J1vubCFSoXBF"
      },
      "source": [
        "## Question - 2\n",
        "##### Implement a deep neural network that has 10 hidden layers and each layer has 10 neurons. Now compare the performance of this network with the previous net.  "
      ],
      "id": "J1vubCFSoXBF"
    },
    {
      "cell_type": "code",
      "metadata": {
        "id": "abmNMaOvoBSX"
      },
      "source": [
        "model2 = Sequential()\n",
        "model2.add(Flatten(input_shape=X_train[0].shape))\n",
        "model2.add(Dense(10, activation='relu'))\n",
        "model2.add(Dense(10, activation='relu'))\n",
        "model2.add(Dense(10, activation='relu'))\n",
        "model2.add(Dense(10, activation='relu'))\n",
        "model2.add(Dense(10, activation='relu'))\n",
        "model2.add(Dense(10, activation='relu'))\n",
        "model2.add(Dense(10, activation='relu'))\n",
        "model2.add(Dense(10, activation='relu'))\n",
        "model2.add(Dense(10, activation='relu'))\n",
        "model2.add(Dense(10, activation='relu'))\n",
        "model2.add(Dense(10, activation='softmax'))"
      ],
      "id": "abmNMaOvoBSX",
      "execution_count": 17,
      "outputs": []
    },
    {
      "cell_type": "code",
      "metadata": {
        "colab": {
          "base_uri": "https://localhost:8080/"
        },
        "id": "1e4PEx67ongd",
        "outputId": "143a0abd-f81f-42ff-b43c-65011fc26762"
      },
      "source": [
        "model2.summary()"
      ],
      "id": "1e4PEx67ongd",
      "execution_count": 18,
      "outputs": [
        {
          "output_type": "stream",
          "name": "stdout",
          "text": [
            "Model: \"sequential_1\"\n",
            "_________________________________________________________________\n",
            "Layer (type)                 Output Shape              Param #   \n",
            "=================================================================\n",
            "flatten_1 (Flatten)          (None, 784)               0         \n",
            "_________________________________________________________________\n",
            "dense_2 (Dense)              (None, 10)                7850      \n",
            "_________________________________________________________________\n",
            "dense_3 (Dense)              (None, 10)                110       \n",
            "_________________________________________________________________\n",
            "dense_4 (Dense)              (None, 10)                110       \n",
            "_________________________________________________________________\n",
            "dense_5 (Dense)              (None, 10)                110       \n",
            "_________________________________________________________________\n",
            "dense_6 (Dense)              (None, 10)                110       \n",
            "_________________________________________________________________\n",
            "dense_7 (Dense)              (None, 10)                110       \n",
            "_________________________________________________________________\n",
            "dense_8 (Dense)              (None, 10)                110       \n",
            "_________________________________________________________________\n",
            "dense_9 (Dense)              (None, 10)                110       \n",
            "_________________________________________________________________\n",
            "dense_10 (Dense)             (None, 10)                110       \n",
            "_________________________________________________________________\n",
            "dense_11 (Dense)             (None, 10)                110       \n",
            "_________________________________________________________________\n",
            "dense_12 (Dense)             (None, 10)                110       \n",
            "=================================================================\n",
            "Total params: 8,950\n",
            "Trainable params: 8,950\n",
            "Non-trainable params: 0\n",
            "_________________________________________________________________\n"
          ]
        }
      ]
    },
    {
      "cell_type": "code",
      "metadata": {
        "id": "KuE3z8kxopDH"
      },
      "source": [
        "model2.compile(optimizer='adam', metrics=['accuracy'], loss='sparse_categorical_crossentropy')"
      ],
      "id": "KuE3z8kxopDH",
      "execution_count": 19,
      "outputs": []
    },
    {
      "cell_type": "code",
      "metadata": {
        "colab": {
          "base_uri": "https://localhost:8080/"
        },
        "id": "DNJNdH4CoutZ",
        "outputId": "504cdc04-17d4-40f1-d37a-08eb3354057c"
      },
      "source": [
        "history2 = model2.fit(X_train, y_train, batch_size=100, epochs=25)"
      ],
      "id": "DNJNdH4CoutZ",
      "execution_count": 20,
      "outputs": [
        {
          "output_type": "stream",
          "name": "stdout",
          "text": [
            "Epoch 1/25\n",
            "600/600 [==============================] - 2s 3ms/step - loss: 1.2690 - accuracy: 0.5607\n",
            "Epoch 2/25\n",
            "600/600 [==============================] - 2s 3ms/step - loss: 0.5926 - accuracy: 0.8299\n",
            "Epoch 3/25\n",
            "600/600 [==============================] - 2s 3ms/step - loss: 0.4712 - accuracy: 0.8675\n",
            "Epoch 4/25\n",
            "600/600 [==============================] - 2s 3ms/step - loss: 0.4281 - accuracy: 0.8787\n",
            "Epoch 5/25\n",
            "600/600 [==============================] - 2s 3ms/step - loss: 0.4006 - accuracy: 0.8873\n",
            "Epoch 6/25\n",
            "600/600 [==============================] - 2s 3ms/step - loss: 0.3780 - accuracy: 0.8936\n",
            "Epoch 7/25\n",
            "600/600 [==============================] - 2s 3ms/step - loss: 0.3629 - accuracy: 0.8978\n",
            "Epoch 8/25\n",
            "600/600 [==============================] - 2s 3ms/step - loss: 0.3486 - accuracy: 0.9015\n",
            "Epoch 9/25\n",
            "600/600 [==============================] - 2s 3ms/step - loss: 0.3332 - accuracy: 0.9063\n",
            "Epoch 10/25\n",
            "600/600 [==============================] - 2s 3ms/step - loss: 0.3230 - accuracy: 0.9093\n",
            "Epoch 11/25\n",
            "600/600 [==============================] - 2s 3ms/step - loss: 0.3151 - accuracy: 0.9111\n",
            "Epoch 12/25\n",
            "600/600 [==============================] - 2s 3ms/step - loss: 0.3068 - accuracy: 0.9138\n",
            "Epoch 13/25\n",
            "600/600 [==============================] - 2s 3ms/step - loss: 0.2985 - accuracy: 0.9150\n",
            "Epoch 14/25\n",
            "600/600 [==============================] - 2s 3ms/step - loss: 0.2909 - accuracy: 0.9180\n",
            "Epoch 15/25\n",
            "600/600 [==============================] - 2s 3ms/step - loss: 0.2834 - accuracy: 0.9209\n",
            "Epoch 16/25\n",
            "600/600 [==============================] - 2s 3ms/step - loss: 0.2803 - accuracy: 0.9213\n",
            "Epoch 17/25\n",
            "600/600 [==============================] - 2s 3ms/step - loss: 0.2725 - accuracy: 0.9236\n",
            "Epoch 18/25\n",
            "600/600 [==============================] - 2s 3ms/step - loss: 0.2680 - accuracy: 0.9240\n",
            "Epoch 19/25\n",
            "600/600 [==============================] - 2s 3ms/step - loss: 0.2663 - accuracy: 0.9242\n",
            "Epoch 20/25\n",
            "600/600 [==============================] - 2s 3ms/step - loss: 0.2600 - accuracy: 0.9264\n",
            "Epoch 21/25\n",
            "600/600 [==============================] - 2s 3ms/step - loss: 0.2549 - accuracy: 0.9276\n",
            "Epoch 22/25\n",
            "600/600 [==============================] - 2s 3ms/step - loss: 0.2531 - accuracy: 0.9281\n",
            "Epoch 23/25\n",
            "600/600 [==============================] - 2s 3ms/step - loss: 0.2488 - accuracy: 0.9298\n",
            "Epoch 24/25\n",
            "600/600 [==============================] - 2s 3ms/step - loss: 0.2473 - accuracy: 0.9298\n",
            "Epoch 25/25\n",
            "600/600 [==============================] - 2s 3ms/step - loss: 0.2431 - accuracy: 0.9308\n"
          ]
        }
      ]
    },
    {
      "cell_type": "code",
      "metadata": {
        "colab": {
          "base_uri": "https://localhost:8080/"
        },
        "id": "ZqAqRcwko9Ss",
        "outputId": "67a60893-c863-40ca-f4a9-74f9a762acca"
      },
      "source": [
        "from sklearn.metrics import accuracy_score\n",
        "\n",
        "y_pred_train = np.argmax(model2.predict(X_train), axis=-1)\n",
        "y_pred_test = np.argmax(model2.predict(X_test), axis=-1)\n",
        "print('Training accuracy:', 100*accuracy_score(y_train, y_pred_train))\n",
        "print('Testing accuracy:', 100*accuracy_score(y_test, y_pred_test))"
      ],
      "id": "ZqAqRcwko9Ss",
      "execution_count": 21,
      "outputs": [
        {
          "output_type": "stream",
          "name": "stdout",
          "text": [
            "Training accuracy: 93.45833333333333\n",
            "Testing accuracy: 92.36999999999999\n"
          ]
        }
      ]
    },
    {
      "cell_type": "code",
      "metadata": {
        "colab": {
          "base_uri": "https://localhost:8080/",
          "height": 312
        },
        "id": "O-Yt37LrpydH",
        "outputId": "8273f4d1-37ab-442a-94ca-146f65b05c2c"
      },
      "source": [
        "plt.figure()\n",
        "plt.plot(history2.history['accuracy'])\n",
        "plt.title('Model Accuracy')\n",
        "plt.xlabel('No. of Epochs')\n",
        "plt.ylabel('Accuracy')"
      ],
      "id": "O-Yt37LrpydH",
      "execution_count": 22,
      "outputs": [
        {
          "output_type": "execute_result",
          "data": {
            "text/plain": [
              "Text(0, 0.5, 'Accuracy')"
            ]
          },
          "metadata": {},
          "execution_count": 22
        },
        {
          "output_type": "display_data",
          "data": {
            "image/png": "[encoded data removed]",
            "text/plain": [
              "<Figure size 432x288 with 1 Axes>"
            ]
          },
          "metadata": {
            "needs_background": "light"
          }
        }
      ]
    },
    {
      "cell_type": "code",
      "metadata": {
        "colab": {
          "base_uri": "https://localhost:8080/",
          "height": 312
        },
        "id": "M6KSc8v9pzXA",
        "outputId": "e05af7c2-fe9f-4df1-ca52-f971b2fc7fcd"
      },
      "source": [
        "plt.figure()\n",
        "plt.plot(history2.history['loss'])\n",
        "plt.title('Model loss')\n",
        "plt.xlabel('No. of Epochs')\n",
        "plt.ylabel('Loss')"
      ],
      "id": "M6KSc8v9pzXA",
      "execution_count": 23,
      "outputs": [
        {
          "output_type": "execute_result",
          "data": {
            "text/plain": [
              "Text(0, 0.5, 'Loss')"
            ]
          },
          "metadata": {},
          "execution_count": 23
        },
        {
          "output_type": "display_data",
          "data": {
            "image/png": "[encoded data removed]",
            "text/plain": [
              "<Figure size 432x288 with 1 Axes>"
            ]
          },
          "metadata": {
            "needs_background": "light"
          }
        }
      ]
    },
    {
      "cell_type": "markdown",
      "metadata": {
        "id": "lkctQzIcLqxV"
      },
      "source": [
        "## Question - 3\n",
        "##### Write another program which will assess the quality of the features generated by the 10 layer deep net (in item 2) in its different layers. For this, train the deep net first. Then generate the features from the hidden layer 5, 7 and 10 separately and use it in k-nearest neighbour to classify the images and compare the performances of the features generated from layers 5, 7 and 10. The features from a layer mean the activation values of the neurons in that particular layer. "
      ],
      "id": "lkctQzIcLqxV"
    },
    {
      "cell_type": "code",
      "metadata": {
        "id": "U1vZskjjSOaS"
      },
      "source": [
        "from keras import models\n",
        "# Extracts the outputs of the top 5th, 7th and 10th hidden layers\n",
        "layer_outputs = [layer.output for layer in model2.layers] \n",
        "# Creates a model that will return these outputs, given the model input\n",
        "activation_model = models.Model(inputs=model2.input, outputs=layer_outputs) "
      ],
      "id": "U1vZskjjSOaS",
      "execution_count": 24,
      "outputs": []
    },
    {
      "cell_type": "code",
      "metadata": {
        "id": "4nfma1OcaWUa"
      },
      "source": [
        "activations_train = activation_model.predict(X_train) \n",
        "activations_test = activation_model.predict(X_test) "
      ],
      "id": "4nfma1OcaWUa",
      "execution_count": 25,
      "outputs": []
    },
    {
      "cell_type": "code",
      "metadata": {
        "id": "WHxXRZIvaxQ5"
      },
      "source": [
        "n_neighbors = 7\n",
        "from sklearn.neighbors import KNeighborsClassifier"
      ],
      "id": "WHxXRZIvaxQ5",
      "execution_count": 26,
      "outputs": []
    },
    {
      "cell_type": "markdown",
      "metadata": {
        "id": "b-fsHiW-c0fL"
      },
      "source": [
        "##### Using 5th hidden layer"
      ],
      "id": "b-fsHiW-c0fL"
    },
    {
      "cell_type": "code",
      "metadata": {
        "colab": {
          "base_uri": "https://localhost:8080/"
        },
        "id": "Ok9FsXxaa0el",
        "outputId": "cbcd2a7e-7ec9-491b-d55a-c6a760804677"
      },
      "source": [
        "knn5 = KNeighborsClassifier(n_neighbors=n_neighbors)\n",
        "knn5.fit(activations_train[6], y_train)\n",
        "knn5_train_pred = knn5.predict(activations_train[6])\n",
        "knn5_test_pred = knn5.predict(activations_test[6])\n",
        "print('Training accuracy from 5th hideden layer:', 100*accuracy_score(y_train, knn5_train_pred))\n",
        "print('Testing accuracy from 5th hidden layer:',100*accuracy_score(y_test, knn5_test_pred) )"
      ],
      "id": "Ok9FsXxaa0el",
      "execution_count": 27,
      "outputs": [
        {
          "output_type": "stream",
          "name": "stdout",
          "text": [
            "Training accuracy from 5th hideden layer: 94.39666666666666\n",
            "Testing accuracy from 5th hidden layer: 92.55\n"
          ]
        }
      ]
    },
    {
      "cell_type": "markdown",
      "metadata": {
        "id": "pZdhJ3apeAuO"
      },
      "source": [
        "##### Using 7th hidden layer"
      ],
      "id": "pZdhJ3apeAuO"
    },
    {
      "cell_type": "code",
      "metadata": {
        "colab": {
          "base_uri": "https://localhost:8080/"
        },
        "id": "GI6AB3D6eAuP",
        "outputId": "a35d1442-e416-441d-c777-089184d7a136"
      },
      "source": [
        "knn7 = KNeighborsClassifier(n_neighbors=n_neighbors)\n",
        "knn7.fit(activations_train[8], y_train)\n",
        "knn7_train_pred = knn7.predict(activations_train[8])\n",
        "knn7_test_pred = knn7.predict(activations_test[8])\n",
        "print('Training accuracy from 7th hidden layer:', 100*accuracy_score(y_train, knn7_train_pred))\n",
        "print('Testing accuracy from 7th hidden layer:',100*accuracy_score(y_test, knn7_test_pred) )"
      ],
      "id": "GI6AB3D6eAuP",
      "execution_count": 28,
      "outputs": [
        {
          "output_type": "stream",
          "name": "stdout",
          "text": [
            "Training accuracy from 7th hidden layer: 94.38666666666666\n",
            "Testing accuracy from 7th hidden layer: 92.42\n"
          ]
        }
      ]
    },
    {
      "cell_type": "markdown",
      "metadata": {
        "id": "fPPbcUH5eD6I"
      },
      "source": [
        "##### Using 10th hidden layer"
      ],
      "id": "fPPbcUH5eD6I"
    },
    {
      "cell_type": "code",
      "metadata": {
        "colab": {
          "base_uri": "https://localhost:8080/"
        },
        "id": "wsENxo_XeD6J",
        "outputId": "c339d7bf-acf9-4dc4-f7b1-9d1825c6ba54"
      },
      "source": [
        "knn10 = KNeighborsClassifier(n_neighbors=n_neighbors)\n",
        "knn10.fit(activations_train[11], y_train)\n",
        "knn10_train_pred = knn10.predict(activations_train[11])\n",
        "knn10_test_pred = knn10.predict(activations_test[11])\n",
        "print('Training accuracy from 10th layer:', 100*accuracy_score(y_train, knn10_train_pred))\n",
        "print('Testing accuracy from 10th layer:',100*accuracy_score(y_test, knn10_test_pred) )"
      ],
      "id": "wsENxo_XeD6J",
      "execution_count": 29,
      "outputs": [
        {
          "output_type": "stream",
          "name": "stdout",
          "text": [
            "Training accuracy from 10th layer: 94.195\n",
            "Testing accuracy from 10th layer: 92.31\n"
          ]
        }
      ]
    },
    {
      "cell_type": "code",
      "metadata": {
        "id": "t9yKAajEej1G"
      },
      "source": [
        ""
      ],
      "id": "t9yKAajEej1G",
      "execution_count": 29,
      "outputs": []
    }
  ]
}