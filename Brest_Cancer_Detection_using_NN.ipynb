{
  "nbformat": 4,
  "nbformat_minor": 0,
  "metadata": {
    "colab": {
      "name": "Brest Cancer Detection using NN.ipynb",
      "provenance": []
    },
    "kernelspec": {
      "name": "python3",
      "display_name": "Python 3"
    },
    "accelerator": "TPU"
  },
  "cells": [
    {
      "cell_type": "markdown",
      "metadata": {
        "id": "7BMQx4I3ggoU",
        "colab_type": "text"
      },
      "source": [
        "**Installing TensorFlow 2.0**"
      ]
    },
    {
      "cell_type": "code",
      "metadata": {
        "id": "rlRoB1kKY5DB",
        "colab_type": "code",
        "colab": {
          "base_uri": "https://localhost:8080/",
          "height": 394
        },
        "outputId": "9b7eab6b-f57e-45d0-af3e-0c7454a5eb49"
      },
      "source": [
        "!pip install tensorflow==2.0.0-rc0"
      ],
      "execution_count": 1,
      "outputs": [
        {
          "output_type": "stream",
          "text": [
            "Requirement already satisfied: tensorflow==2.0.0-rc0 in /usr/local/lib/python3.6/dist-packages (2.0.0rc0)\n",
            "Requirement already satisfied: protobuf>=3.6.1 in /usr/local/lib/python3.6/dist-packages (from tensorflow==2.0.0-rc0) (3.10.0)\n",
            "Requirement already satisfied: tb-nightly<1.15.0a20190807,>=1.15.0a20190806 in /usr/local/lib/python3.6/dist-packages (from tensorflow==2.0.0-rc0) (1.15.0a20190806)\n",
            "Requirement already satisfied: astor>=0.6.0 in /usr/local/lib/python3.6/dist-packages (from tensorflow==2.0.0-rc0) (0.8.1)\n",
            "Requirement already satisfied: tf-estimator-nightly<1.14.0.dev2019080602,>=1.14.0.dev2019080601 in /usr/local/lib/python3.6/dist-packages (from tensorflow==2.0.0-rc0) (1.14.0.dev2019080601)\n",
            "Requirement already satisfied: wrapt>=1.11.1 in /usr/local/lib/python3.6/dist-packages (from tensorflow==2.0.0-rc0) (1.11.2)\n",
            "Requirement already satisfied: gast>=0.2.0 in /usr/local/lib/python3.6/dist-packages (from tensorflow==2.0.0-rc0) (0.2.2)\n",
            "Requirement already satisfied: google-pasta>=0.1.6 in /usr/local/lib/python3.6/dist-packages (from tensorflow==2.0.0-rc0) (0.1.8)\n",
            "Requirement already satisfied: termcolor>=1.1.0 in /usr/local/lib/python3.6/dist-packages (from tensorflow==2.0.0-rc0) (1.1.0)\n",
            "Requirement already satisfied: grpcio>=1.8.6 in /usr/local/lib/python3.6/dist-packages (from tensorflow==2.0.0-rc0) (1.15.0)\n",
            "Requirement already satisfied: numpy<2.0,>=1.16.0 in /usr/local/lib/python3.6/dist-packages (from tensorflow==2.0.0-rc0) (1.17.4)\n",
            "Requirement already satisfied: opt-einsum>=2.3.2 in /usr/local/lib/python3.6/dist-packages (from tensorflow==2.0.0-rc0) (3.1.0)\n",
            "Requirement already satisfied: six>=1.10.0 in /usr/local/lib/python3.6/dist-packages (from tensorflow==2.0.0-rc0) (1.12.0)\n",
            "Requirement already satisfied: keras-applications>=1.0.8 in /usr/local/lib/python3.6/dist-packages (from tensorflow==2.0.0-rc0) (1.0.8)\n",
            "Requirement already satisfied: wheel>=0.26 in /usr/local/lib/python3.6/dist-packages (from tensorflow==2.0.0-rc0) (0.33.6)\n",
            "Requirement already satisfied: keras-preprocessing>=1.0.5 in /usr/local/lib/python3.6/dist-packages (from tensorflow==2.0.0-rc0) (1.1.0)\n",
            "Requirement already satisfied: absl-py>=0.7.0 in /usr/local/lib/python3.6/dist-packages (from tensorflow==2.0.0-rc0) (0.8.1)\n",
            "Requirement already satisfied: setuptools in /usr/local/lib/python3.6/dist-packages (from protobuf>=3.6.1->tensorflow==2.0.0-rc0) (42.0.2)\n",
            "Requirement already satisfied: werkzeug>=0.11.15 in /usr/local/lib/python3.6/dist-packages (from tb-nightly<1.15.0a20190807,>=1.15.0a20190806->tensorflow==2.0.0-rc0) (0.16.0)\n",
            "Requirement already satisfied: markdown>=2.6.8 in /usr/local/lib/python3.6/dist-packages (from tb-nightly<1.15.0a20190807,>=1.15.0a20190806->tensorflow==2.0.0-rc0) (3.1.1)\n",
            "Requirement already satisfied: h5py in /usr/local/lib/python3.6/dist-packages (from keras-applications>=1.0.8->tensorflow==2.0.0-rc0) (2.8.0)\n"
          ],
          "name": "stdout"
        }
      ]
    },
    {
      "cell_type": "code",
      "metadata": {
        "id": "bp0q1T-Badmo",
        "colab_type": "code",
        "colab": {}
      },
      "source": [
        "import numpy as np\n",
        "import pandas as pd\n",
        "import matplotlib.pyplot as plt\n",
        "import seaborn as sns"
      ],
      "execution_count": 0,
      "outputs": []
    },
    {
      "cell_type": "code",
      "metadata": {
        "id": "wzm3ZfvLbL2V",
        "colab_type": "code",
        "colab": {}
      },
      "source": [
        "import tensorflow as tf\n",
        "from tensorflow import keras\n",
        "from tensorflow.keras import Sequential\n",
        "from tensorflow.keras.layers import Dense, Dropout, BatchNormalization"
      ],
      "execution_count": 0,
      "outputs": []
    },
    {
      "cell_type": "code",
      "metadata": {
        "id": "Jn5GnnFrbt5u",
        "colab_type": "code",
        "colab": {}
      },
      "source": [
        "from sklearn import datasets\n",
        "from sklearn.preprocessing import StandardScaler\n",
        "from sklearn.model_selection import train_test_split\n",
        "from sklearn.metrics import accuracy_score"
      ],
      "execution_count": 0,
      "outputs": []
    },
    {
      "cell_type": "markdown",
      "metadata": {
        "id": "wuV-WYL1gqAJ",
        "colab_type": "text"
      },
      "source": [
        "**Loading Cancer Dataset**"
      ]
    },
    {
      "cell_type": "code",
      "metadata": {
        "id": "168Yx_wbb-kF",
        "colab_type": "code",
        "colab": {}
      },
      "source": [
        "cancer = datasets.load_breast_cancer()"
      ],
      "execution_count": 0,
      "outputs": []
    },
    {
      "cell_type": "code",
      "metadata": {
        "id": "CBAVGryBcDdo",
        "colab_type": "code",
        "colab": {
          "base_uri": "https://localhost:8080/",
          "height": 1000
        },
        "outputId": "0679f2af-b7a5-4a89-84fa-b1c95933f158"
      },
      "source": [
        "print(cancer.DESCR)"
      ],
      "execution_count": 6,
      "outputs": [
        {
          "output_type": "stream",
          "text": [
            ".. _breast_cancer_dataset:\n",
            "\n",
            "Breast cancer wisconsin (diagnostic) dataset\n",
            "--------------------------------------------\n",
            "\n",
            "**Data Set Characteristics:**\n",
            "\n",
            "    :Number of Instances: 569\n",
            "\n",
            "    :Number of Attributes: 30 numeric, predictive attributes and the class\n",
            "\n",
            "    :Attribute Information:\n",
            "        - radius (mean of distances from center to points on the perimeter)\n",
            "        - texture (standard deviation of gray-scale values)\n",
            "        - perimeter\n",
            "        - area\n",
            "        - smoothness (local variation in radius lengths)\n",
            "        - compactness (perimeter^2 / area - 1.0)\n",
            "        - concavity (severity of concave portions of the contour)\n",
            "        - concave points (number of concave portions of the contour)\n",
            "        - symmetry \n",
            "        - fractal dimension (\"coastline approximation\" - 1)\n",
            "\n",
            "        The mean, standard error, and \"worst\" or largest (mean of the three\n",
            "        largest values) of these features were computed for each image,\n",
            "        resulting in 30 features.  For instance, field 3 is Mean Radius, field\n",
            "        13 is Radius SE, field 23 is Worst Radius.\n",
            "\n",
            "        - class:\n",
            "                - WDBC-Malignant\n",
            "                - WDBC-Benign\n",
            "\n",
            "    :Summary Statistics:\n",
            "\n",
            "    ===================================== ====== ======\n",
            "                                           Min    Max\n",
            "    ===================================== ====== ======\n",
            "    radius (mean):                        6.981  28.11\n",
            "    texture (mean):                       9.71   39.28\n",
            "    perimeter (mean):                     43.79  188.5\n",
            "    area (mean):                          143.5  2501.0\n",
            "    smoothness (mean):                    0.053  0.163\n",
            "    compactness (mean):                   0.019  0.345\n",
            "    concavity (mean):                     0.0    0.427\n",
            "    concave points (mean):                0.0    0.201\n",
            "    symmetry (mean):                      0.106  0.304\n",
            "    fractal dimension (mean):             0.05   0.097\n",
            "    radius (standard error):              0.112  2.873\n",
            "    texture (standard error):             0.36   4.885\n",
            "    perimeter (standard error):           0.757  21.98\n",
            "    area (standard error):                6.802  542.2\n",
            "    smoothness (standard error):          0.002  0.031\n",
            "    compactness (standard error):         0.002  0.135\n",
            "    concavity (standard error):           0.0    0.396\n",
            "    concave points (standard error):      0.0    0.053\n",
            "    symmetry (standard error):            0.008  0.079\n",
            "    fractal dimension (standard error):   0.001  0.03\n",
            "    radius (worst):                       7.93   36.04\n",
            "    texture (worst):                      12.02  49.54\n",
            "    perimeter (worst):                    50.41  251.2\n",
            "    area (worst):                         185.2  4254.0\n",
            "    smoothness (worst):                   0.071  0.223\n",
            "    compactness (worst):                  0.027  1.058\n",
            "    concavity (worst):                    0.0    1.252\n",
            "    concave points (worst):               0.0    0.291\n",
            "    symmetry (worst):                     0.156  0.664\n",
            "    fractal dimension (worst):            0.055  0.208\n",
            "    ===================================== ====== ======\n",
            "\n",
            "    :Missing Attribute Values: None\n",
            "\n",
            "    :Class Distribution: 212 - Malignant, 357 - Benign\n",
            "\n",
            "    :Creator:  Dr. William H. Wolberg, W. Nick Street, Olvi L. Mangasarian\n",
            "\n",
            "    :Donor: Nick Street\n",
            "\n",
            "    :Date: November, 1995\n",
            "\n",
            "This is a copy of UCI ML Breast Cancer Wisconsin (Diagnostic) datasets.\n",
            "https://goo.gl/U2Uwz2\n",
            "\n",
            "Features are computed from a digitized image of a fine needle\n",
            "aspirate (FNA) of a breast mass.  They describe\n",
            "characteristics of the cell nuclei present in the image.\n",
            "\n",
            "Separating plane described above was obtained using\n",
            "Multisurface Method-Tree (MSM-T) [K. P. Bennett, \"Decision Tree\n",
            "Construction Via Linear Programming.\" Proceedings of the 4th\n",
            "Midwest Artificial Intelligence and Cognitive Science Society,\n",
            "pp. 97-101, 1992], a classification method which uses linear\n",
            "programming to construct a decision tree.  Relevant features\n",
            "were selected using an exhaustive search in the space of 1-4\n",
            "features and 1-3 separating planes.\n",
            "\n",
            "The actual linear program used to obtain the separating plane\n",
            "in the 3-dimensional space is that described in:\n",
            "[K. P. Bennett and O. L. Mangasarian: \"Robust Linear\n",
            "Programming Discrimination of Two Linearly Inseparable Sets\",\n",
            "Optimization Methods and Software 1, 1992, 23-34].\n",
            "\n",
            "This database is also available through the UW CS ftp server:\n",
            "\n",
            "ftp ftp.cs.wisc.edu\n",
            "cd math-prog/cpo-dataset/machine-learn/WDBC/\n",
            "\n",
            ".. topic:: References\n",
            "\n",
            "   - W.N. Street, W.H. Wolberg and O.L. Mangasarian. Nuclear feature extraction \n",
            "     for breast tumor diagnosis. IS&T/SPIE 1993 International Symposium on \n",
            "     Electronic Imaging: Science and Technology, volume 1905, pages 861-870,\n",
            "     San Jose, CA, 1993.\n",
            "   - O.L. Mangasarian, W.N. Street and W.H. Wolberg. Breast cancer diagnosis and \n",
            "     prognosis via linear programming. Operations Research, 43(4), pages 570-577, \n",
            "     July-August 1995.\n",
            "   - W.H. Wolberg, W.N. Street, and O.L. Mangasarian. Machine learning techniques\n",
            "     to diagnose breast cancer from fine-needle aspirates. Cancer Letters 77 (1994) \n",
            "     163-171.\n"
          ],
          "name": "stdout"
        }
      ]
    },
    {
      "cell_type": "code",
      "metadata": {
        "id": "pk_09R4BcGv_",
        "colab_type": "code",
        "colab": {}
      },
      "source": [
        "X = pd.DataFrame(cancer.data, columns=cancer.feature_names)"
      ],
      "execution_count": 0,
      "outputs": []
    },
    {
      "cell_type": "code",
      "metadata": {
        "id": "wqf7u7e6dGXf",
        "colab_type": "code",
        "colab": {
          "base_uri": "https://localhost:8080/",
          "height": 258
        },
        "outputId": "2da87ffd-25be-4d72-c209-731dc7c5edf4"
      },
      "source": [
        "X.head()"
      ],
      "execution_count": 8,
      "outputs": [
        {
          "output_type": "execute_result",
          "data": {
            "text/html": [
              "<div>\n",
              "<style scoped>\n",
              "    .dataframe tbody tr th:only-of-type {\n",
              "        vertical-align: middle;\n",
              "    }\n",
              "\n",
              "    .dataframe tbody tr th {\n",
              "        vertical-align: top;\n",
              "    }\n",
              "\n",
              "    .dataframe thead th {\n",
              "        text-align: right;\n",
              "    }\n",
              "</style>\n",
              "<table border=\"1\" class=\"dataframe\">\n",
              "  <thead>\n",
              "    <tr style=\"text-align: right;\">\n",
              "      <th></th>\n",
              "      <th>mean radius</th>\n",
              "      <th>mean texture</th>\n",
              "      <th>mean perimeter</th>\n",
              "      <th>mean area</th>\n",
              "      <th>mean smoothness</th>\n",
              "      <th>mean compactness</th>\n",
              "      <th>mean concavity</th>\n",
              "      <th>mean concave points</th>\n",
              "      <th>mean symmetry</th>\n",
              "      <th>mean fractal dimension</th>\n",
              "      <th>radius error</th>\n",
              "      <th>texture error</th>\n",
              "      <th>perimeter error</th>\n",
              "      <th>area error</th>\n",
              "      <th>smoothness error</th>\n",
              "      <th>compactness error</th>\n",
              "      <th>concavity error</th>\n",
              "      <th>concave points error</th>\n",
              "      <th>symmetry error</th>\n",
              "      <th>fractal dimension error</th>\n",
              "      <th>worst radius</th>\n",
              "      <th>worst texture</th>\n",
              "      <th>worst perimeter</th>\n",
              "      <th>worst area</th>\n",
              "      <th>worst smoothness</th>\n",
              "      <th>worst compactness</th>\n",
              "      <th>worst concavity</th>\n",
              "      <th>worst concave points</th>\n",
              "      <th>worst symmetry</th>\n",
              "      <th>worst fractal dimension</th>\n",
              "    </tr>\n",
              "  </thead>\n",
              "  <tbody>\n",
              "    <tr>\n",
              "      <th>0</th>\n",
              "      <td>17.99</td>\n",
              "      <td>10.38</td>\n",
              "      <td>122.80</td>\n",
              "      <td>1001.0</td>\n",
              "      <td>0.11840</td>\n",
              "      <td>0.27760</td>\n",
              "      <td>0.3001</td>\n",
              "      <td>0.14710</td>\n",
              "      <td>0.2419</td>\n",
              "      <td>0.07871</td>\n",
              "      <td>1.0950</td>\n",
              "      <td>0.9053</td>\n",
              "      <td>8.589</td>\n",
              "      <td>153.40</td>\n",
              "      <td>0.006399</td>\n",
              "      <td>0.04904</td>\n",
              "      <td>0.05373</td>\n",
              "      <td>0.01587</td>\n",
              "      <td>0.03003</td>\n",
              "      <td>0.006193</td>\n",
              "      <td>25.38</td>\n",
              "      <td>17.33</td>\n",
              "      <td>184.60</td>\n",
              "      <td>2019.0</td>\n",
              "      <td>0.1622</td>\n",
              "      <td>0.6656</td>\n",
              "      <td>0.7119</td>\n",
              "      <td>0.2654</td>\n",
              "      <td>0.4601</td>\n",
              "      <td>0.11890</td>\n",
              "    </tr>\n",
              "    <tr>\n",
              "      <th>1</th>\n",
              "      <td>20.57</td>\n",
              "      <td>17.77</td>\n",
              "      <td>132.90</td>\n",
              "      <td>1326.0</td>\n",
              "      <td>0.08474</td>\n",
              "      <td>0.07864</td>\n",
              "      <td>0.0869</td>\n",
              "      <td>0.07017</td>\n",
              "      <td>0.1812</td>\n",
              "      <td>0.05667</td>\n",
              "      <td>0.5435</td>\n",
              "      <td>0.7339</td>\n",
              "      <td>3.398</td>\n",
              "      <td>74.08</td>\n",
              "      <td>0.005225</td>\n",
              "      <td>0.01308</td>\n",
              "      <td>0.01860</td>\n",
              "      <td>0.01340</td>\n",
              "      <td>0.01389</td>\n",
              "      <td>0.003532</td>\n",
              "      <td>24.99</td>\n",
              "      <td>23.41</td>\n",
              "      <td>158.80</td>\n",
              "      <td>1956.0</td>\n",
              "      <td>0.1238</td>\n",
              "      <td>0.1866</td>\n",
              "      <td>0.2416</td>\n",
              "      <td>0.1860</td>\n",
              "      <td>0.2750</td>\n",
              "      <td>0.08902</td>\n",
              "    </tr>\n",
              "    <tr>\n",
              "      <th>2</th>\n",
              "      <td>19.69</td>\n",
              "      <td>21.25</td>\n",
              "      <td>130.00</td>\n",
              "      <td>1203.0</td>\n",
              "      <td>0.10960</td>\n",
              "      <td>0.15990</td>\n",
              "      <td>0.1974</td>\n",
              "      <td>0.12790</td>\n",
              "      <td>0.2069</td>\n",
              "      <td>0.05999</td>\n",
              "      <td>0.7456</td>\n",
              "      <td>0.7869</td>\n",
              "      <td>4.585</td>\n",
              "      <td>94.03</td>\n",
              "      <td>0.006150</td>\n",
              "      <td>0.04006</td>\n",
              "      <td>0.03832</td>\n",
              "      <td>0.02058</td>\n",
              "      <td>0.02250</td>\n",
              "      <td>0.004571</td>\n",
              "      <td>23.57</td>\n",
              "      <td>25.53</td>\n",
              "      <td>152.50</td>\n",
              "      <td>1709.0</td>\n",
              "      <td>0.1444</td>\n",
              "      <td>0.4245</td>\n",
              "      <td>0.4504</td>\n",
              "      <td>0.2430</td>\n",
              "      <td>0.3613</td>\n",
              "      <td>0.08758</td>\n",
              "    </tr>\n",
              "    <tr>\n",
              "      <th>3</th>\n",
              "      <td>11.42</td>\n",
              "      <td>20.38</td>\n",
              "      <td>77.58</td>\n",
              "      <td>386.1</td>\n",
              "      <td>0.14250</td>\n",
              "      <td>0.28390</td>\n",
              "      <td>0.2414</td>\n",
              "      <td>0.10520</td>\n",
              "      <td>0.2597</td>\n",
              "      <td>0.09744</td>\n",
              "      <td>0.4956</td>\n",
              "      <td>1.1560</td>\n",
              "      <td>3.445</td>\n",
              "      <td>27.23</td>\n",
              "      <td>0.009110</td>\n",
              "      <td>0.07458</td>\n",
              "      <td>0.05661</td>\n",
              "      <td>0.01867</td>\n",
              "      <td>0.05963</td>\n",
              "      <td>0.009208</td>\n",
              "      <td>14.91</td>\n",
              "      <td>26.50</td>\n",
              "      <td>98.87</td>\n",
              "      <td>567.7</td>\n",
              "      <td>0.2098</td>\n",
              "      <td>0.8663</td>\n",
              "      <td>0.6869</td>\n",
              "      <td>0.2575</td>\n",
              "      <td>0.6638</td>\n",
              "      <td>0.17300</td>\n",
              "    </tr>\n",
              "    <tr>\n",
              "      <th>4</th>\n",
              "      <td>20.29</td>\n",
              "      <td>14.34</td>\n",
              "      <td>135.10</td>\n",
              "      <td>1297.0</td>\n",
              "      <td>0.10030</td>\n",
              "      <td>0.13280</td>\n",
              "      <td>0.1980</td>\n",
              "      <td>0.10430</td>\n",
              "      <td>0.1809</td>\n",
              "      <td>0.05883</td>\n",
              "      <td>0.7572</td>\n",
              "      <td>0.7813</td>\n",
              "      <td>5.438</td>\n",
              "      <td>94.44</td>\n",
              "      <td>0.011490</td>\n",
              "      <td>0.02461</td>\n",
              "      <td>0.05688</td>\n",
              "      <td>0.01885</td>\n",
              "      <td>0.01756</td>\n",
              "      <td>0.005115</td>\n",
              "      <td>22.54</td>\n",
              "      <td>16.67</td>\n",
              "      <td>152.20</td>\n",
              "      <td>1575.0</td>\n",
              "      <td>0.1374</td>\n",
              "      <td>0.2050</td>\n",
              "      <td>0.4000</td>\n",
              "      <td>0.1625</td>\n",
              "      <td>0.2364</td>\n",
              "      <td>0.07678</td>\n",
              "    </tr>\n",
              "  </tbody>\n",
              "</table>\n",
              "</div>"
            ],
            "text/plain": [
              "   mean radius  mean texture  ...  worst symmetry  worst fractal dimension\n",
              "0        17.99         10.38  ...          0.4601                  0.11890\n",
              "1        20.57         17.77  ...          0.2750                  0.08902\n",
              "2        19.69         21.25  ...          0.3613                  0.08758\n",
              "3        11.42         20.38  ...          0.6638                  0.17300\n",
              "4        20.29         14.34  ...          0.2364                  0.07678\n",
              "\n",
              "[5 rows x 30 columns]"
            ]
          },
          "metadata": {
            "tags": []
          },
          "execution_count": 8
        }
      ]
    },
    {
      "cell_type": "code",
      "metadata": {
        "id": "nxds9osWdUE_",
        "colab_type": "code",
        "colab": {}
      },
      "source": [
        "y = cancer.target"
      ],
      "execution_count": 0,
      "outputs": []
    },
    {
      "cell_type": "code",
      "metadata": {
        "id": "3VciH6nQdbsX",
        "colab_type": "code",
        "colab": {
          "base_uri": "https://localhost:8080/",
          "height": 34
        },
        "outputId": "2fc3bee1-f1e4-4b02-e1ad-cac73e09b7fc"
      },
      "source": [
        "y[:5]"
      ],
      "execution_count": 10,
      "outputs": [
        {
          "output_type": "execute_result",
          "data": {
            "text/plain": [
              "array([0, 0, 0, 0, 0])"
            ]
          },
          "metadata": {
            "tags": []
          },
          "execution_count": 10
        }
      ]
    },
    {
      "cell_type": "code",
      "metadata": {
        "id": "ZzrX78h0dnRQ",
        "colab_type": "code",
        "colab": {
          "base_uri": "https://localhost:8080/",
          "height": 34
        },
        "outputId": "5a559dde-d0f2-4ebc-94d2-0b330e692b01"
      },
      "source": [
        "print(X.shape)"
      ],
      "execution_count": 11,
      "outputs": [
        {
          "output_type": "stream",
          "text": [
            "(569, 30)\n"
          ],
          "name": "stdout"
        }
      ]
    },
    {
      "cell_type": "code",
      "metadata": {
        "id": "iugKNFuGdne9",
        "colab_type": "code",
        "colab": {
          "base_uri": "https://localhost:8080/",
          "height": 34
        },
        "outputId": "6b13f08d-3afd-4fb4-b0b2-d9d5bd838adc"
      },
      "source": [
        "print(y.shape)"
      ],
      "execution_count": 12,
      "outputs": [
        {
          "output_type": "stream",
          "text": [
            "(569,)\n"
          ],
          "name": "stdout"
        }
      ]
    },
    {
      "cell_type": "code",
      "metadata": {
        "id": "yegzbvfVde_E",
        "colab_type": "code",
        "colab": {}
      },
      "source": [
        "X_train, X_test, y_train, y_test = train_test_split(X, y, test_size=0.2)"
      ],
      "execution_count": 0,
      "outputs": []
    },
    {
      "cell_type": "code",
      "metadata": {
        "id": "yV6C9Ycddxy_",
        "colab_type": "code",
        "colab": {
          "base_uri": "https://localhost:8080/",
          "height": 85
        },
        "outputId": "46fdd1eb-933b-443d-cff4-cea79ee26073"
      },
      "source": [
        "print(X_train.shape)\n",
        "print(X_test.shape)\n",
        "print(y_train.shape)\n",
        "print(y_test.shape)"
      ],
      "execution_count": 14,
      "outputs": [
        {
          "output_type": "stream",
          "text": [
            "(455, 30)\n",
            "(114, 30)\n",
            "(455,)\n",
            "(114,)\n"
          ],
          "name": "stdout"
        }
      ]
    },
    {
      "cell_type": "code",
      "metadata": {
        "id": "DtTJ-cf8d64s",
        "colab_type": "code",
        "colab": {}
      },
      "source": [
        "scaler = StandardScaler()\n",
        "X_train = scaler.fit_transform(X_train)\n",
        "X_test = scaler.transform(X_test)"
      ],
      "execution_count": 0,
      "outputs": []
    },
    {
      "cell_type": "code",
      "metadata": {
        "id": "X06UVOMBfCLv",
        "colab_type": "code",
        "colab": {
          "base_uri": "https://localhost:8080/",
          "height": 119
        },
        "outputId": "f818bfd1-1eae-46cb-ddbe-82853ff90093"
      },
      "source": [
        "X_train[0]"
      ],
      "execution_count": 16,
      "outputs": [
        {
          "output_type": "execute_result",
          "data": {
            "text/plain": [
              "array([ 0.32315784,  2.57618342,  0.4857203 ,  0.19194201,  0.66421616,\n",
              "        2.00494008,  2.17536136,  1.21130731,  1.20632928,  1.30184276,\n",
              "       -0.53029677, -0.00644456, -0.24670324, -0.40036138, -0.79006026,\n",
              "        1.28234155,  1.54143653,  0.71301503,  0.11989108,  0.92537936,\n",
              "        0.27442622,  2.74323225,  0.65437528,  0.07429717,  0.44573443,\n",
              "        3.44722691,  4.34493009,  1.87472301,  2.06952401,  3.251885  ])"
            ]
          },
          "metadata": {
            "tags": []
          },
          "execution_count": 16
        }
      ]
    },
    {
      "cell_type": "markdown",
      "metadata": {
        "id": "qo5B071Tgu0q",
        "colab_type": "text"
      },
      "source": [
        "**Deep Learning Model**"
      ]
    },
    {
      "cell_type": "code",
      "metadata": {
        "id": "kkud7C-OfGGo",
        "colab_type": "code",
        "colab": {}
      },
      "source": [
        "model = Sequential()\n",
        "\n",
        "model.add(Dense(64, activation='relu', input_shape=(X_train[0].shape)))\n",
        "model.add(Dropout(0.5))\n",
        "\n",
        "model.add(BatchNormalization())\n",
        "model.add(Dense(128, activation='relu'))\n",
        "model.add(Dropout(0.5))\n",
        "\n",
        "model.add(BatchNormalization())\n",
        "model.add(Dense(64, activation='relu'))\n",
        "model.add(Dropout(0.5))\n",
        "\n",
        "model.add(BatchNormalization())\n",
        "model.add(Dense(64, activation='relu'))\n",
        "model.add(Dropout(0.5))\n",
        "\n",
        "model.add(BatchNormalization())\n",
        "model.add(Dense(64, activation='relu'))\n",
        "model.add(Dropout(0.5))\n",
        "\n",
        "model.add(BatchNormalization())\n",
        "model.add(Dense(34, activation='relu'))\n",
        "model.add(Dropout(0.5))\n",
        "\n",
        "model.add(BatchNormalization())\n",
        "model.add(Dense(1, activation='sigmoid'))"
      ],
      "execution_count": 0,
      "outputs": []
    },
    {
      "cell_type": "code",
      "metadata": {
        "id": "-gmHN_B0hlm_",
        "colab_type": "code",
        "colab": {
          "base_uri": "https://localhost:8080/",
          "height": 799
        },
        "outputId": "7c4427ac-27e2-4336-d78d-2f0189ea44c0"
      },
      "source": [
        "model.summary()"
      ],
      "execution_count": 18,
      "outputs": [
        {
          "output_type": "stream",
          "text": [
            "Model: \"sequential\"\n",
            "_________________________________________________________________\n",
            "Layer (type)                 Output Shape              Param #   \n",
            "=================================================================\n",
            "dense (Dense)                (None, 64)                1984      \n",
            "_________________________________________________________________\n",
            "dropout (Dropout)            (None, 64)                0         \n",
            "_________________________________________________________________\n",
            "batch_normalization (BatchNo (None, 64)                256       \n",
            "_________________________________________________________________\n",
            "dense_1 (Dense)              (None, 128)               8320      \n",
            "_________________________________________________________________\n",
            "dropout_1 (Dropout)          (None, 128)               0         \n",
            "_________________________________________________________________\n",
            "batch_normalization_1 (Batch (None, 128)               512       \n",
            "_________________________________________________________________\n",
            "dense_2 (Dense)              (None, 64)                8256      \n",
            "_________________________________________________________________\n",
            "dropout_2 (Dropout)          (None, 64)                0         \n",
            "_________________________________________________________________\n",
            "batch_normalization_2 (Batch (None, 64)                256       \n",
            "_________________________________________________________________\n",
            "dense_3 (Dense)              (None, 64)                4160      \n",
            "_________________________________________________________________\n",
            "dropout_3 (Dropout)          (None, 64)                0         \n",
            "_________________________________________________________________\n",
            "batch_normalization_3 (Batch (None, 64)                256       \n",
            "_________________________________________________________________\n",
            "dense_4 (Dense)              (None, 64)                4160      \n",
            "_________________________________________________________________\n",
            "dropout_4 (Dropout)          (None, 64)                0         \n",
            "_________________________________________________________________\n",
            "batch_normalization_4 (Batch (None, 64)                256       \n",
            "_________________________________________________________________\n",
            "dense_5 (Dense)              (None, 34)                2210      \n",
            "_________________________________________________________________\n",
            "dropout_5 (Dropout)          (None, 34)                0         \n",
            "_________________________________________________________________\n",
            "batch_normalization_5 (Batch (None, 34)                136       \n",
            "_________________________________________________________________\n",
            "dense_6 (Dense)              (None, 1)                 35        \n",
            "=================================================================\n",
            "Total params: 30,797\n",
            "Trainable params: 29,961\n",
            "Non-trainable params: 836\n",
            "_________________________________________________________________\n"
          ],
          "name": "stdout"
        }
      ]
    },
    {
      "cell_type": "code",
      "metadata": {
        "id": "yhYeM586hqBW",
        "colab_type": "code",
        "colab": {}
      },
      "source": [
        "model.compile(optimizer='adam', loss='binary_crossentropy', metrics=['accuracy'])"
      ],
      "execution_count": 0,
      "outputs": []
    },
    {
      "cell_type": "code",
      "metadata": {
        "id": "1PfQBeIGiGhI",
        "colab_type": "code",
        "colab": {
          "base_uri": "https://localhost:8080/",
          "height": 1000
        },
        "outputId": "48c25c1e-4383-45f7-a47e-bd6d134d2450"
      },
      "source": [
        "history = model.fit(X_train, y_train, batch_size=100, epochs=100)"
      ],
      "execution_count": 20,
      "outputs": [
        {
          "output_type": "stream",
          "text": [
            "Train on 455 samples\n",
            "Epoch 1/100\n",
            "WARNING:tensorflow:From /usr/local/lib/python3.6/dist-packages/tensorflow_core/python/ops/nn_impl.py:183: where (from tensorflow.python.ops.array_ops) is deprecated and will be removed in a future version.\n",
            "Instructions for updating:\n",
            "Use tf.where in 2.0, which has the same broadcast rule as np.where\n",
            "455/455 [==============================] - 2s 5ms/sample - loss: 0.8297 - accuracy: 0.5341\n",
            "Epoch 2/100\n",
            "455/455 [==============================] - 0s 84us/sample - loss: 0.8024 - accuracy: 0.5385\n",
            "Epoch 3/100\n",
            "455/455 [==============================] - 0s 75us/sample - loss: 0.8124 - accuracy: 0.5473\n",
            "Epoch 4/100\n",
            "455/455 [==============================] - 0s 77us/sample - loss: 0.7794 - accuracy: 0.5912\n",
            "Epoch 5/100\n",
            "455/455 [==============================] - 0s 76us/sample - loss: 0.7993 - accuracy: 0.5714\n",
            "Epoch 6/100\n",
            "455/455 [==============================] - 0s 85us/sample - loss: 0.7439 - accuracy: 0.5846\n",
            "Epoch 7/100\n",
            "455/455 [==============================] - 0s 82us/sample - loss: 0.7372 - accuracy: 0.6066\n",
            "Epoch 8/100\n",
            "455/455 [==============================] - 0s 73us/sample - loss: 0.7629 - accuracy: 0.5780\n",
            "Epoch 9/100\n",
            "455/455 [==============================] - 0s 74us/sample - loss: 0.6980 - accuracy: 0.5978\n",
            "Epoch 10/100\n",
            "455/455 [==============================] - 0s 80us/sample - loss: 0.6942 - accuracy: 0.6264\n",
            "Epoch 11/100\n",
            "455/455 [==============================] - 0s 78us/sample - loss: 0.6139 - accuracy: 0.6571\n",
            "Epoch 12/100\n",
            "455/455 [==============================] - 0s 87us/sample - loss: 0.6345 - accuracy: 0.6901\n",
            "Epoch 13/100\n",
            "455/455 [==============================] - 0s 83us/sample - loss: 0.6609 - accuracy: 0.6813\n",
            "Epoch 14/100\n",
            "455/455 [==============================] - 0s 80us/sample - loss: 0.6445 - accuracy: 0.6879\n",
            "Epoch 15/100\n",
            "455/455 [==============================] - 0s 77us/sample - loss: 0.6161 - accuracy: 0.7011\n",
            "Epoch 16/100\n",
            "455/455 [==============================] - 0s 73us/sample - loss: 0.6074 - accuracy: 0.6813\n",
            "Epoch 17/100\n",
            "455/455 [==============================] - 0s 77us/sample - loss: 0.6533 - accuracy: 0.6791\n",
            "Epoch 18/100\n",
            "455/455 [==============================] - 0s 74us/sample - loss: 0.6054 - accuracy: 0.7187\n",
            "Epoch 19/100\n",
            "455/455 [==============================] - 0s 78us/sample - loss: 0.5495 - accuracy: 0.7319\n",
            "Epoch 20/100\n",
            "455/455 [==============================] - 0s 77us/sample - loss: 0.5597 - accuracy: 0.7341\n",
            "Epoch 21/100\n",
            "455/455 [==============================] - 0s 74us/sample - loss: 0.5524 - accuracy: 0.7385\n",
            "Epoch 22/100\n",
            "455/455 [==============================] - 0s 76us/sample - loss: 0.5501 - accuracy: 0.7516\n",
            "Epoch 23/100\n",
            "455/455 [==============================] - 0s 74us/sample - loss: 0.5019 - accuracy: 0.7626\n",
            "Epoch 24/100\n",
            "455/455 [==============================] - 0s 76us/sample - loss: 0.5107 - accuracy: 0.7758\n",
            "Epoch 25/100\n",
            "455/455 [==============================] - 0s 73us/sample - loss: 0.4838 - accuracy: 0.7824\n",
            "Epoch 26/100\n",
            "455/455 [==============================] - 0s 83us/sample - loss: 0.4918 - accuracy: 0.7824\n",
            "Epoch 27/100\n",
            "455/455 [==============================] - 0s 79us/sample - loss: 0.4688 - accuracy: 0.7978\n",
            "Epoch 28/100\n",
            "455/455 [==============================] - 0s 78us/sample - loss: 0.4714 - accuracy: 0.7890\n",
            "Epoch 29/100\n",
            "455/455 [==============================] - 0s 77us/sample - loss: 0.3819 - accuracy: 0.8352\n",
            "Epoch 30/100\n",
            "455/455 [==============================] - 0s 78us/sample - loss: 0.4602 - accuracy: 0.7956\n",
            "Epoch 31/100\n",
            "455/455 [==============================] - 0s 76us/sample - loss: 0.4173 - accuracy: 0.8110\n",
            "Epoch 32/100\n",
            "455/455 [==============================] - 0s 76us/sample - loss: 0.4294 - accuracy: 0.8176\n",
            "Epoch 33/100\n",
            "455/455 [==============================] - 0s 78us/sample - loss: 0.3622 - accuracy: 0.8484\n",
            "Epoch 34/100\n",
            "455/455 [==============================] - 0s 72us/sample - loss: 0.3740 - accuracy: 0.8330\n",
            "Epoch 35/100\n",
            "455/455 [==============================] - 0s 76us/sample - loss: 0.3660 - accuracy: 0.8505\n",
            "Epoch 36/100\n",
            "455/455 [==============================] - 0s 70us/sample - loss: 0.3575 - accuracy: 0.8484\n",
            "Epoch 37/100\n",
            "455/455 [==============================] - 0s 85us/sample - loss: 0.3347 - accuracy: 0.8703\n",
            "Epoch 38/100\n",
            "455/455 [==============================] - 0s 80us/sample - loss: 0.3169 - accuracy: 0.8725\n",
            "Epoch 39/100\n",
            "455/455 [==============================] - 0s 76us/sample - loss: 0.3617 - accuracy: 0.8527\n",
            "Epoch 40/100\n",
            "455/455 [==============================] - 0s 74us/sample - loss: 0.3380 - accuracy: 0.8571\n",
            "Epoch 41/100\n",
            "455/455 [==============================] - 0s 75us/sample - loss: 0.2916 - accuracy: 0.8813\n",
            "Epoch 42/100\n",
            "455/455 [==============================] - 0s 81us/sample - loss: 0.3242 - accuracy: 0.8725\n",
            "Epoch 43/100\n",
            "455/455 [==============================] - 0s 88us/sample - loss: 0.3223 - accuracy: 0.8835\n",
            "Epoch 44/100\n",
            "455/455 [==============================] - 0s 81us/sample - loss: 0.2788 - accuracy: 0.8923\n",
            "Epoch 45/100\n",
            "455/455 [==============================] - 0s 75us/sample - loss: 0.2801 - accuracy: 0.8989\n",
            "Epoch 46/100\n",
            "455/455 [==============================] - 0s 74us/sample - loss: 0.3073 - accuracy: 0.8747\n",
            "Epoch 47/100\n",
            "455/455 [==============================] - 0s 80us/sample - loss: 0.2770 - accuracy: 0.8945\n",
            "Epoch 48/100\n",
            "455/455 [==============================] - 0s 89us/sample - loss: 0.3073 - accuracy: 0.8769\n",
            "Epoch 49/100\n",
            "455/455 [==============================] - 0s 94us/sample - loss: 0.2704 - accuracy: 0.9011\n",
            "Epoch 50/100\n",
            "455/455 [==============================] - 0s 80us/sample - loss: 0.2661 - accuracy: 0.8989\n",
            "Epoch 51/100\n",
            "455/455 [==============================] - 0s 83us/sample - loss: 0.2391 - accuracy: 0.9011\n",
            "Epoch 52/100\n",
            "455/455 [==============================] - 0s 85us/sample - loss: 0.2595 - accuracy: 0.9187\n",
            "Epoch 53/100\n",
            "455/455 [==============================] - 0s 86us/sample - loss: 0.2608 - accuracy: 0.9077\n",
            "Epoch 54/100\n",
            "455/455 [==============================] - 0s 83us/sample - loss: 0.2135 - accuracy: 0.9341\n",
            "Epoch 55/100\n",
            "455/455 [==============================] - 0s 88us/sample - loss: 0.2588 - accuracy: 0.9121\n",
            "Epoch 56/100\n",
            "455/455 [==============================] - 0s 77us/sample - loss: 0.2354 - accuracy: 0.9165\n",
            "Epoch 57/100\n",
            "455/455 [==============================] - 0s 88us/sample - loss: 0.2367 - accuracy: 0.9099\n",
            "Epoch 58/100\n",
            "455/455 [==============================] - 0s 92us/sample - loss: 0.2295 - accuracy: 0.9121\n",
            "Epoch 59/100\n",
            "455/455 [==============================] - 0s 91us/sample - loss: 0.2226 - accuracy: 0.9297\n",
            "Epoch 60/100\n",
            "455/455 [==============================] - 0s 87us/sample - loss: 0.2357 - accuracy: 0.9143\n",
            "Epoch 61/100\n",
            "455/455 [==============================] - 0s 84us/sample - loss: 0.1913 - accuracy: 0.9319\n",
            "Epoch 62/100\n",
            "455/455 [==============================] - 0s 86us/sample - loss: 0.2273 - accuracy: 0.9121\n",
            "Epoch 63/100\n",
            "455/455 [==============================] - 0s 90us/sample - loss: 0.2178 - accuracy: 0.9165\n",
            "Epoch 64/100\n",
            "455/455 [==============================] - 0s 79us/sample - loss: 0.2013 - accuracy: 0.9275\n",
            "Epoch 65/100\n",
            "455/455 [==============================] - 0s 87us/sample - loss: 0.2192 - accuracy: 0.9055\n",
            "Epoch 66/100\n",
            "455/455 [==============================] - 0s 87us/sample - loss: 0.1701 - accuracy: 0.9538\n",
            "Epoch 67/100\n",
            "455/455 [==============================] - 0s 93us/sample - loss: 0.1650 - accuracy: 0.9495\n",
            "Epoch 68/100\n",
            "455/455 [==============================] - 0s 82us/sample - loss: 0.1956 - accuracy: 0.9297\n",
            "Epoch 69/100\n",
            "455/455 [==============================] - 0s 77us/sample - loss: 0.1679 - accuracy: 0.9538\n",
            "Epoch 70/100\n",
            "455/455 [==============================] - 0s 90us/sample - loss: 0.1966 - accuracy: 0.9297\n",
            "Epoch 71/100\n",
            "455/455 [==============================] - 0s 84us/sample - loss: 0.1443 - accuracy: 0.9516\n",
            "Epoch 72/100\n",
            "455/455 [==============================] - 0s 79us/sample - loss: 0.1962 - accuracy: 0.9495\n",
            "Epoch 73/100\n",
            "455/455 [==============================] - 0s 86us/sample - loss: 0.1890 - accuracy: 0.9341\n",
            "Epoch 74/100\n",
            "455/455 [==============================] - 0s 82us/sample - loss: 0.1379 - accuracy: 0.9582\n",
            "Epoch 75/100\n",
            "455/455 [==============================] - 0s 87us/sample - loss: 0.1496 - accuracy: 0.9582\n",
            "Epoch 76/100\n",
            "455/455 [==============================] - 0s 80us/sample - loss: 0.1576 - accuracy: 0.9560\n",
            "Epoch 77/100\n",
            "455/455 [==============================] - 0s 95us/sample - loss: 0.1679 - accuracy: 0.9626\n",
            "Epoch 78/100\n",
            "455/455 [==============================] - 0s 89us/sample - loss: 0.1400 - accuracy: 0.9582\n",
            "Epoch 79/100\n",
            "455/455 [==============================] - 0s 86us/sample - loss: 0.1552 - accuracy: 0.9495\n",
            "Epoch 80/100\n",
            "455/455 [==============================] - 0s 86us/sample - loss: 0.1622 - accuracy: 0.9582\n",
            "Epoch 81/100\n",
            "455/455 [==============================] - 0s 91us/sample - loss: 0.1443 - accuracy: 0.9473\n",
            "Epoch 82/100\n",
            "455/455 [==============================] - 0s 84us/sample - loss: 0.1691 - accuracy: 0.9429\n",
            "Epoch 83/100\n",
            "455/455 [==============================] - 0s 85us/sample - loss: 0.1431 - accuracy: 0.9516\n",
            "Epoch 84/100\n",
            "455/455 [==============================] - 0s 87us/sample - loss: 0.1352 - accuracy: 0.9626\n",
            "Epoch 85/100\n",
            "455/455 [==============================] - 0s 92us/sample - loss: 0.1661 - accuracy: 0.9560\n",
            "Epoch 86/100\n",
            "455/455 [==============================] - 0s 84us/sample - loss: 0.1753 - accuracy: 0.9451\n",
            "Epoch 87/100\n",
            "455/455 [==============================] - 0s 85us/sample - loss: 0.1425 - accuracy: 0.9582\n",
            "Epoch 88/100\n",
            "455/455 [==============================] - 0s 82us/sample - loss: 0.1389 - accuracy: 0.9516\n",
            "Epoch 89/100\n",
            "455/455 [==============================] - 0s 80us/sample - loss: 0.1539 - accuracy: 0.9538\n",
            "Epoch 90/100\n",
            "455/455 [==============================] - 0s 85us/sample - loss: 0.1106 - accuracy: 0.9692\n",
            "Epoch 91/100\n",
            "455/455 [==============================] - 0s 94us/sample - loss: 0.1447 - accuracy: 0.9670\n",
            "Epoch 92/100\n",
            "455/455 [==============================] - 0s 94us/sample - loss: 0.1104 - accuracy: 0.9648\n",
            "Epoch 93/100\n",
            "455/455 [==============================] - 0s 92us/sample - loss: 0.1279 - accuracy: 0.9626\n",
            "Epoch 94/100\n",
            "455/455 [==============================] - 0s 90us/sample - loss: 0.1689 - accuracy: 0.9385\n",
            "Epoch 95/100\n",
            "455/455 [==============================] - 0s 84us/sample - loss: 0.1367 - accuracy: 0.9670\n",
            "Epoch 96/100\n",
            "455/455 [==============================] - 0s 84us/sample - loss: 0.1437 - accuracy: 0.9516\n",
            "Epoch 97/100\n",
            "455/455 [==============================] - 0s 82us/sample - loss: 0.1921 - accuracy: 0.9297\n",
            "Epoch 98/100\n",
            "455/455 [==============================] - 0s 83us/sample - loss: 0.1353 - accuracy: 0.9516\n",
            "Epoch 99/100\n",
            "455/455 [==============================] - 0s 84us/sample - loss: 0.1139 - accuracy: 0.9626\n",
            "Epoch 100/100\n",
            "455/455 [==============================] - 0s 82us/sample - loss: 0.1180 - accuracy: 0.9692\n"
          ],
          "name": "stdout"
        }
      ]
    },
    {
      "cell_type": "code",
      "metadata": {
        "id": "hE99ICP6iTbM",
        "colab_type": "code",
        "colab": {}
      },
      "source": [
        "## Plotting Accuracy with No. of Epochs"
      ],
      "execution_count": 0,
      "outputs": []
    },
    {
      "cell_type": "code",
      "metadata": {
        "id": "aisZOUudibld",
        "colab_type": "code",
        "colab": {
          "base_uri": "https://localhost:8080/",
          "height": 312
        },
        "outputId": "ef1477ea-7d75-4d61-f270-447a32dfc665"
      },
      "source": [
        "plt.figure()\n",
        "plt.plot(history.history['accuracy'])\n",
        "plt.title('Model Accuracy')\n",
        "plt.xlabel('No. of Epochs')\n",
        "plt.ylabel('Accuracy')"
      ],
      "execution_count": 22,
      "outputs": [
        {
          "output_type": "execute_result",
          "data": {
            "text/plain": [
              "Text(0, 0.5, 'Accuracy')"
            ]
          },
          "metadata": {
            "tags": []
          },
          "execution_count": 22
        },
        {
          "output_type": "display_data",
          "data": {
            "image/png": "[encoded data removed]",
            "text/plain": [
              "<Figure size 432x288 with 1 Axes>"
            ]
          },
          "metadata": {
            "tags": []
          }
        }
      ]
    },
    {
      "cell_type": "code",
      "metadata": {
        "id": "u_qxtQtPin2B",
        "colab_type": "code",
        "colab": {}
      },
      "source": [
        "## Plotting Loss with No. of Epochs"
      ],
      "execution_count": 0,
      "outputs": []
    },
    {
      "cell_type": "code",
      "metadata": {
        "id": "yzcbYzQPirlf",
        "colab_type": "code",
        "colab": {
          "base_uri": "https://localhost:8080/",
          "height": 312
        },
        "outputId": "f9618855-d536-48f1-dcb4-0060747c90aa"
      },
      "source": [
        "plt.figure()\n",
        "plt.plot(history.history['loss'])\n",
        "plt.title('Model Loss')\n",
        "plt.xlabel('No. of Epochs')\n",
        "plt.ylabel('Loss')"
      ],
      "execution_count": 24,
      "outputs": [
        {
          "output_type": "execute_result",
          "data": {
            "text/plain": [
              "Text(0, 0.5, 'Loss')"
            ]
          },
          "metadata": {
            "tags": []
          },
          "execution_count": 24
        },
        {
          "output_type": "display_data",
          "data": {
            "image/png": "[encoded data removed]",
            "text/plain": [
              "<Figure size 432x288 with 1 Axes>"
            ]
          },
          "metadata": {
            "tags": []
          }
        }
      ]
    },
    {
      "cell_type": "code",
      "metadata": {
        "id": "VMRr0Zhii4r6",
        "colab_type": "code",
        "colab": {}
      },
      "source": [
        "y_pred = model.predict_classes(X_test)"
      ],
      "execution_count": 0,
      "outputs": []
    },
    {
      "cell_type": "code",
      "metadata": {
        "id": "zE7Kljw1i9Pz",
        "colab_type": "code",
        "colab": {
          "base_uri": "https://localhost:8080/",
          "height": 34
        },
        "outputId": "967f691f-a823-4b68-cded-2fc582a45568"
      },
      "source": [
        "print(accuracy_score(y_test, y_pred))"
      ],
      "execution_count": 26,
      "outputs": [
        {
          "output_type": "stream",
          "text": [
            "0.9385964912280702\n"
          ],
          "name": "stdout"
        }
      ]
    }
  ]
}